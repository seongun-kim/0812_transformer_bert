{
 "cells": [
  {
   "cell_type": "markdown",
   "metadata": {
    "colab_type": "text",
    "id": "s_qNSzzyaCbD"
   },
   "source": [
    "##### Copyright 2019 The TensorFlow Authors."
   ]
  },
  {
   "cell_type": "code",
   "execution_count": 1,
   "metadata": {
    "cellView": "form",
    "colab": {},
    "colab_type": "code",
    "id": "jmjh290raIky"
   },
   "outputs": [],
   "source": [
    "#@title Licensed under the Apache License, Version 2.0 (the \"License\");\n",
    "# you may not use this file except in compliance with the License.\n",
    "# You may obtain a copy of the License at\n",
    "#\n",
    "# https://www.apache.org/licenses/LICENSE-2.0\n",
    "#\n",
    "# Unless required by applicable law or agreed to in writing, software\n",
    "# distributed under the License is distributed on an \"AS IS\" BASIS,\n",
    "# WITHOUT WARRANTIES OR CONDITIONS OF ANY KIND, either express or implied.\n",
    "# See the License for the specific language governing permissions and\n",
    "# limitations under the License."
   ]
  },
  {
   "cell_type": "markdown",
   "metadata": {
    "colab_type": "text",
    "id": "J0Qjg6vuaHNt"
   },
   "source": [
    "# Transformer를 이용하여 포르투갈어를 영어로 번역하기"
   ]
  },
  {
   "cell_type": "markdown",
   "metadata": {},
   "source": [
    "\"Attention Is All You Need\" 논문이 제안한 Transformer 이용해 포르투갈어를 영어로 바꾸는 모델을 학습합니다.\n",
    "\n",
    "Transformer의 핵심 아이디어는 self-attention입니다. self-attention은 입력 시퀀스의 벡터 표현을 계산하기 위해 입력 시퀀스 단어의 여러 위치에 대해 attention을 계산합니다. Transformer는 여러겹의 self-attention 층으로 구성되어 있고 \"scaled- dot product attention\", \"Multi-head attention\"에서 자세히 설명할 것입니다.\n",
    "\n",
    "Transformer의 장점과 단점은 다음과 같습니다.\n",
    "\n",
    "장점\n",
    "\n",
    "* 모든 층들이 parallel하게 계산됩니다. Transformer는 모든 연산을 matrix 형태로 한 번에 처리할 수 있지만 RNN의 경우에는 매 time-step마다 순서대로 출력값을 계산하기 때문에 연산의 효율성이 떨어집니다.\n",
    "* 멀리 떨어져 있는 입력 값도 모든 출력 값에 영향을 줄 수 있습니다. RNN의 경우는 멀리 떨어져 있는 입력 값에 대한 영향이 점점 떨어지기 때문에 long-range dependency를 학습하기 힘듭니다. 하지만 Transformer는 아무리 멀리 떨어져 있어도 그 입력에 대한 attention을 계산할 수 있기 때문에 long-range dependency를 훨씬 잘 학습할 수 있습니다. \n",
    "\n",
    "단점\n",
    "\n",
    "* 시계열 데이터의 경우 특정 time-step의 출력값이 항상 모든 과거 정보를 이용해 계산되기 때문에 최근 값이 더 중요한 경우에 대해서는 효율성이 떨어질 수도 있습니다. 최근이 중요함에도 불구하고 계속 전체 과거 정보를 이용하기 때문입니다.\n",
    "\n",
    "\n",
    "<img src=\"./images/attention_map_portuguese.png\" width=\"800\" alt=\"Attention heatmap\">"
   ]
  },
  {
   "cell_type": "code",
   "execution_count": 2,
   "metadata": {
    "colab": {},
    "colab_type": "code",
    "id": "JjJJyJTZYebt"
   },
   "outputs": [],
   "source": [
    "import tensorflow_datasets as tfds\n",
    "import tensorflow as tf\n",
    "\n",
    "import time\n",
    "import numpy as np\n",
    "import matplotlib.pyplot as plt"
   ]
  },
  {
   "cell_type": "markdown",
   "metadata": {
    "colab_type": "text",
    "id": "fd1NWMxjfsDd"
   },
   "source": [
    "## 입력 파이프라인 설정"
   ]
  },
  {
   "cell_type": "markdown",
   "metadata": {
    "colab_type": "text",
    "id": "t4_Qt8W1hJE_"
   },
   "source": [
    "\"tensorflow_datasets\"를 이용해 포르투갈어에서 영어로 번역하는 데이터셋을 불러옵니다. 이 데이터셋은 약 50000개의 훈련 데이터와 1100개의 검증 데이터, 2000개의 테스트 데이터로 구성되어 있습니다."
   ]
  },
  {
   "cell_type": "code",
   "execution_count": 3,
   "metadata": {
    "colab": {},
    "colab_type": "code",
    "id": "8q9t4FmN96eN",
    "scrolled": true
   },
   "outputs": [],
   "source": [
    "examples, metadata = tfds.load('ted_hrlr_translate/pt_to_en', with_info=True,\n",
    "                               as_supervised=True)\n",
    "train_examples, val_examples = examples['train'], examples['validation']"
   ]
  },
  {
   "cell_type": "markdown",
   "metadata": {
    "colab_type": "text",
    "id": "RCEKotqosGfq"
   },
   "source": [
    "훈련 데이터셋에서 subword tokenizer를 생성합니다. tokenizer는 문장을 단어별로 분리해주는 역할을 합니다."
   ]
  },
  {
   "cell_type": "code",
   "execution_count": 4,
   "metadata": {
    "colab": {},
    "colab_type": "code",
    "id": "KVBg5Q8tBk5z"
   },
   "outputs": [],
   "source": [
    "tokenizer_en = tfds.features.text.SubwordTextEncoder.build_from_corpus(\n",
    "    (en.numpy() for pt, en in train_examples), target_vocab_size=2**13)\n",
    "\n",
    "tokenizer_pt = tfds.features.text.SubwordTextEncoder.build_from_corpus(\n",
    "    (pt.numpy() for pt, en in train_examples), target_vocab_size=2**13)"
   ]
  },
  {
   "cell_type": "code",
   "execution_count": 5,
   "metadata": {
    "colab": {},
    "colab_type": "code",
    "id": "4DYWukNFkGQN"
   },
   "outputs": [
    {
     "name": "stdout",
     "output_type": "stream",
     "text": [
      "Tokenized string is [7915, 1248, 7946, 7194, 13, 2799, 7877]\n",
      "The original string: Transformer is awesome.\n"
     ]
    }
   ],
   "source": [
    "sample_string = 'Transformer is awesome.'\n",
    "\n",
    "tokenized_string = tokenizer_en.encode(sample_string)\n",
    "print ('Tokenized string is {}'.format(tokenized_string))\n",
    "\n",
    "original_string = tokenizer_en.decode(tokenized_string)\n",
    "print ('The original string: {}'.format(original_string))\n",
    "\n",
    "assert original_string == sample_string"
   ]
  },
  {
   "cell_type": "markdown",
   "metadata": {
    "colab_type": "text",
    "id": "o9KJWJjrsZ4Y"
   },
   "source": [
    "tokenizer는 문장을 subword 단위로 encoding 합니다. 만일 단어가 tokenizer의 dictionary에 없으면 더 작은 단위로 쪼갭니다."
   ]
  },
  {
   "cell_type": "code",
   "execution_count": 6,
   "metadata": {
    "colab": {},
    "colab_type": "code",
    "id": "bf2ntBxjkqK6"
   },
   "outputs": [
    {
     "name": "stdout",
     "output_type": "stream",
     "text": [
      "7915 ----> T\n",
      "1248 ----> ran\n",
      "7946 ----> s\n",
      "7194 ----> former \n",
      "13 ----> is \n",
      "2799 ----> awesome\n",
      "7877 ----> .\n"
     ]
    }
   ],
   "source": [
    "for ts in tokenized_string:\n",
    "  print ('{} ----> {}'.format(ts, tokenizer_en.decode([ts])))"
   ]
  },
  {
   "cell_type": "code",
   "execution_count": 7,
   "metadata": {
    "colab": {},
    "colab_type": "code",
    "id": "bcRp7VcQ5m6g"
   },
   "outputs": [],
   "source": [
    "BUFFER_SIZE = 20000\n",
    "BATCH_SIZE = 64"
   ]
  },
  {
   "cell_type": "code",
   "execution_count": 8,
   "metadata": {},
   "outputs": [
    {
     "name": "stdout",
     "output_type": "stream",
     "text": [
      "8087\n"
     ]
    }
   ],
   "source": [
    "print(tokenizer_en.vocab_size) # word index: 0~8086"
   ]
  },
  {
   "cell_type": "markdown",
   "metadata": {
    "colab_type": "text",
    "id": "kGi4PoVakxdc"
   },
   "source": [
    "모델에 문장의 시작과 끝을 알려주기 위해 start token과 end token을 추가합니다.\n"
   ]
  },
  {
   "cell_type": "code",
   "execution_count": 9,
   "metadata": {
    "colab": {},
    "colab_type": "code",
    "id": "UZwnPr4R055s"
   },
   "outputs": [],
   "source": [
    "# start token: 8087, end token: 8088\n",
    "def encode(lang1, lang2):\n",
    "  lang1 = [tokenizer_pt.vocab_size] + tokenizer_pt.encode(\n",
    "      lang1.numpy()) + [tokenizer_pt.vocab_size+1]\n",
    "\n",
    "  lang2 = [tokenizer_en.vocab_size] + tokenizer_en.encode(\n",
    "      lang2.numpy()) + [tokenizer_en.vocab_size+1]\n",
    "  \n",
    "  return lang1, lang2"
   ]
  },
  {
   "cell_type": "markdown",
   "metadata": {
    "colab_type": "text",
    "id": "Tx1sFbR-9fRs"
   },
   "source": [
    "`Dataset.map` 을 이용해 'encode' 함수를 적용해야 하지만 `Dataset.map`은 graph mode에서만 작동합니다. \n",
    "\n",
    "* 그래프 텐서는 값을 가지지 않습니다. 그래프만 만들고 나중에 값을 대입합니다.\n",
    "* 그래프 모드에서는 Tensorflow에 내장되어 있는 연산이나 함수만 쓸 수 있습니다.\n",
    "\n",
    "따라서 '.map'을 이용해 'encode' 함수를 바로 적용할 수 없습니다. `tf.py_function`을 이용해 'encode'함수를 감싸야 합니다. `tf.py_function`는 텐서를 'encode' 함수의 입력값으로 쓰일 수 있도록 해줍니다."
   ]
  },
  {
   "cell_type": "code",
   "execution_count": 10,
   "metadata": {
    "colab": {},
    "colab_type": "code",
    "id": "Mah1cS-P70Iz"
   },
   "outputs": [],
   "source": [
    "def tf_encode(pt, en):\n",
    "  result_pt, result_en = tf.py_function(encode, [pt, en], [tf.int64, tf.int64])\n",
    "  result_pt.set_shape([None])\n",
    "  result_en.set_shape([None])\n",
    "\n",
    "  return result_pt, result_en"
   ]
  },
  {
   "cell_type": "markdown",
   "metadata": {
    "colab_type": "text",
    "id": "6JrGp5Gek6Ql"
   },
   "source": [
    "학습 속도를 올리기 위해 토큰 길이가 40을 넘는 예제는 버립니다."
   ]
  },
  {
   "cell_type": "code",
   "execution_count": 11,
   "metadata": {
    "colab": {},
    "colab_type": "code",
    "id": "2QEgbjntk6Yf"
   },
   "outputs": [],
   "source": [
    "MAX_LENGTH = 40"
   ]
  },
  {
   "cell_type": "code",
   "execution_count": 12,
   "metadata": {
    "colab": {},
    "colab_type": "code",
    "id": "c081xPGv1CPI"
   },
   "outputs": [],
   "source": [
    "def filter_max_length(x, y, max_length=MAX_LENGTH):\n",
    "  return tf.logical_and(tf.size(x) <= max_length,\n",
    "                        tf.size(y) <= max_length)"
   ]
  },
  {
   "cell_type": "code",
   "execution_count": 13,
   "metadata": {
    "colab": {},
    "colab_type": "code",
    "id": "9mk9AZdZ5bcS"
   },
   "outputs": [],
   "source": [
    "# sos + encoded tocken + eos\n",
    "train_dataset = train_examples.map(tf_encode)\n",
    "# 토큰 길이 40 이상의 토큰 필터링\n",
    "train_dataset = train_dataset.filter(filter_max_length)"
   ]
  },
  {
   "cell_type": "code",
   "execution_count": null,
   "metadata": {},
   "outputs": [],
   "source": [
    "# Encoding 후, sos, eos가 잘 붙었는지, 토큰 길이가 40 미만인지 dataset을 확인합니다.\n",
    "iterator = iter(train_dataset)\n",
    "for i in range(10):\n",
    "    pt, en = iterator.get_next()\n",
    "    print('idx of data: {}\\npt shape: {}\\npt data: {}\\nen shape: {}\\nen data: {}\\n'.format(i, pt.shape, pt, en.shape, en))"
   ]
  },
  {
   "cell_type": "code",
   "execution_count": 13,
   "metadata": {
    "colab": {},
    "colab_type": "code",
    "id": "9mk9AZdZ5bcS"
   },
   "outputs": [],
   "source": [
    "# cache the dataset to memory to get a speedup while reading from it.\n",
    "train_dataset = train_dataset.cache()\n",
    "\n",
    "# 배치로 학습하기 위해서는 문장의 길이를 같게 해야 합니다. 하지만 실제 입력 문장의 길이는 모두 다릅니다.\n",
    "# 따라서 배치 안에서 동일한 문장 길이를 유지하기 위해 padding을 합니다 보통 문장 뒤에 0을 삽입하여\n",
    "# 문장의 길이를 맞춰줍니다.\n",
    "train_dataset = train_dataset.shuffle(BUFFER_SIZE).padded_batch(BATCH_SIZE)"
   ]
  },
  {
   "cell_type": "code",
   "execution_count": 13,
   "metadata": {
    "colab": {},
    "colab_type": "code",
    "id": "9mk9AZdZ5bcS"
   },
   "outputs": [],
   "source": [
    "# Optional\n",
    "# prefetch를 함으로써 현재 batch를 processing 하는동안 다음 batch를 준비합니다.\n",
    "# 이 과정은 추가적인 메모리를 요구하지만, latency와 throughput을 높여줍니다.\n",
    "train_dataset = train_dataset.prefetch(tf.data.experimental.AUTOTUNE)"
   ]
  },
  {
   "cell_type": "code",
   "execution_count": 13,
   "metadata": {
    "colab": {},
    "colab_type": "code",
    "id": "9mk9AZdZ5bcS"
   },
   "outputs": [],
   "source": [
    "# Validation dataset에도 똑같은 전처리 과정을 적용합니다.\n",
    "val_dataset = val_examples.map(tf_encode)\n",
    "val_dataset = val_dataset.filter(filter_max_length).padded_batch(BATCH_SIZE)"
   ]
  },
  {
   "cell_type": "code",
   "execution_count": 14,
   "metadata": {
    "colab": {},
    "colab_type": "code",
    "id": "_fXvfYVfQr2n"
   },
   "outputs": [
    {
     "data": {
      "text/plain": [
       "(<tf.Tensor: shape=(64, 38), dtype=int64, numpy=\n",
       " array([[8214,  342, 3032, ...,    0,    0,    0],\n",
       "        [8214,   95,  198, ...,    0,    0,    0],\n",
       "        [8214, 4479, 7990, ...,    0,    0,    0],\n",
       "        ...,\n",
       "        [8214,  584,   12, ...,    0,    0,    0],\n",
       "        [8214,   59, 1548, ...,    0,    0,    0],\n",
       "        [8214,  118,   34, ...,    0,    0,    0]])>,\n",
       " <tf.Tensor: shape=(64, 40), dtype=int64, numpy=\n",
       " array([[8087,   98,   25, ...,    0,    0,    0],\n",
       "        [8087,   12,   20, ...,    0,    0,    0],\n",
       "        [8087,   12, 5453, ...,    0,    0,    0],\n",
       "        ...,\n",
       "        [8087,   18, 2059, ...,    0,    0,    0],\n",
       "        [8087,   16, 1436, ...,    0,    0,    0],\n",
       "        [8087,   15,   57, ...,    0,    0,    0]])>)"
      ]
     },
     "execution_count": 14,
     "metadata": {},
     "output_type": "execute_result"
    }
   ],
   "source": [
    "# batch_size: 64\n",
    "# 배치 안의 가장 긴 문장의 길이로 일치시켜줍니다.\n",
    "# pt_batch의 경우는 첫번째 배치의 가장 긴 문장의 길이가 38이고,\n",
    "# en_batch의 경우는 첫번째 배치의 가장 긴 문장의 길이가 40입니다.\n",
    "# 배치별로 가장 긴 문장의 길이는 모두 다르기 때문에 2번째 차원은 배치별로 다를 것입니다.\n",
    "\n",
    "pt_batch, en_batch = next(iter(val_dataset))\n",
    "pt_batch, en_batch"
   ]
  },
  {
   "cell_type": "markdown",
   "metadata": {
    "colab_type": "text",
    "id": "nBQuibYA4n0n"
   },
   "source": [
    "## Positional encoding\n",
    "\n",
    "Transformer는 문장을 순서대로 넣는 것이 아니라 한 번에 병렬로 처리하기 때문에 단어의 순서에 대한 정보가 별도로 주어져야 합니다. Embedding vector에 positional encoding vector를 더해 줌으로써 한 문장 내의 단어들의 위치에 대한 정보를 추가합니다. Embedding vector는 단어들의 상대적인 위치를 반영하지 않습니다. Positional encoding을 통해 embedding space에서 문장 내에 거리가 가까운 단어들이 좀 더 비슷한 vector를 가지도록 조정합니다. 즉, 같은 의미의 단어가 문장 내에서 가까운 위치에 존재할 때 embedding vector는 비슷한 값을 가지고, 같은 의미의 단어라 할지라도 문장 내에서 먼 위치에 존재하면 embedding vector의 값은 달라지게 됩니다.\n",
    "\n",
    "<img src=\"./images/positional_encoding(1).png\" width=\"500\" alt=\"scaled_dot_product_attention\">\n",
    "\n",
    "<img src=\"./images/positional_encoding(2).png\" width=\"250\" alt=\"scaled_dot_product_attention\">\n"
   ]
  },
  {
   "cell_type": "markdown",
   "metadata": {
    "colab_type": "text",
    "id": "nBQuibYA4n0n"
   },
   "source": [
    "Positional encoding을 위해 다음의 두 함수를 사용합니다.\n",
    "$$\\Large{PE_{(pos, 2i)} = sin(pos / 10000^{2i / d_{model}})} $$\n",
    "$$\\Large{PE_{(pos, 2i+1)} = cos(pos / 10000^{2i / d_{model}})} $$"
   ]
  },
  {
   "cell_type": "code",
   "execution_count": 15,
   "metadata": {
    "colab": {},
    "colab_type": "code",
    "id": "WhIOZjMNKujn"
   },
   "outputs": [],
   "source": [
    "def get_angles(pos, i, d_model):\n",
    "  angle_rates = 1 / np.power(10000, (2 * (i//2)) / np.float32(d_model))\n",
    "  return pos * angle_rates"
   ]
  },
  {
   "cell_type": "code",
   "execution_count": 16,
   "metadata": {
    "colab": {},
    "colab_type": "code",
    "id": "1Rz82wEs5biZ"
   },
   "outputs": [],
   "source": [
    "def positional_encoding(position, d_model):\n",
    "  angle_rads = get_angles(np.arange(position)[:, np.newaxis],\n",
    "                          np.arange(d_model)[np.newaxis, :],\n",
    "                          d_model)\n",
    "  \n",
    "  # apply sin to even indices in the array; 2i\n",
    "  angle_rads[:, 0::2] = np.sin(angle_rads[:, 0::2])\n",
    "  \n",
    "  # apply cos to odd indices in the array; 2i+1\n",
    "  angle_rads[:, 1::2] = np.cos(angle_rads[:, 1::2])\n",
    "    \n",
    "  pos_encoding = angle_rads[np.newaxis, ...]\n",
    "    \n",
    "  return tf.cast(pos_encoding, dtype=tf.float32)"
   ]
  },
  {
   "cell_type": "code",
   "execution_count": 17,
   "metadata": {
    "colab": {},
    "colab_type": "code",
    "id": "1kLCla68EloE"
   },
   "outputs": [
    {
     "name": "stdout",
     "output_type": "stream",
     "text": [
      "(1, 50, 512)\n"
     ]
    },
    {
     "data": {
      "image/png": "[encoded data removed]",
      "text/plain": [
       "<Figure size 432x288 with 2 Axes>"
      ]
     },
     "metadata": {
      "needs_background": "light"
     },
     "output_type": "display_data"
    }
   ],
   "source": [
    "pos_encoding = positional_encoding(50, 512) # (1, 50, 512)\n",
    "print (pos_encoding.shape)\n",
    "\n",
    "plt.pcolormesh(pos_encoding[0], cmap='RdBu')\n",
    "plt.xlabel('Depth')\n",
    "plt.xlim((0, 512))\n",
    "plt.ylabel('Position')\n",
    "plt.colorbar()\n",
    "plt.show()"
   ]
  },
  {
   "cell_type": "markdown",
   "metadata": {
    "colab_type": "text",
    "id": "a_b4ou4TYqUN"
   },
   "source": [
    "## Masking"
   ]
  },
  {
   "cell_type": "markdown",
   "metadata": {
    "colab_type": "text",
    "id": "s42Uydjkv0hF"
   },
   "source": [
    "같은 배치내에 있는 문장의 길이를 일치시키기 위해 padding을 이용했습니다. 하지만 이는 실제 입력이 아니기 때문에 입력에서 padding을 제거해야 합니다. masking을 이용해 padding을 가려줌으로써 모델이 padding을 입력으로 인식하지 못하도록 합니다. 여기서 padding에 해당하는 숫자는 0입니다. 따라서 0이 나타나는 부분을 masking을 이용해 가려줍니다. "
   ]
  },
  {
   "cell_type": "code",
   "execution_count": 18,
   "metadata": {
    "colab": {},
    "colab_type": "code",
    "id": "U2i8-e1s8ti9"
   },
   "outputs": [],
   "source": [
    "def create_padding_mask(seq):\n",
    "  seq = tf.cast(tf.math.equal(seq, 0), tf.float32)\n",
    "  \n",
    "  # 추후 multi-head attention에 이를 이용할 것이므로 차원 2개를 중간에 추가해줍니다. \n",
    "\n",
    "  return seq[:, tf.newaxis, tf.newaxis, :]  # (batch_size, 1, 1, seq_len)"
   ]
  },
  {
   "cell_type": "code",
   "execution_count": 19,
   "metadata": {
    "colab": {},
    "colab_type": "code",
    "id": "A7BYeBCNvi7n"
   },
   "outputs": [
    {
     "data": {
      "text/plain": [
       "<tf.Tensor: shape=(3, 1, 1, 5), dtype=float32, numpy=\n",
       "array([[[[0., 0., 1., 1., 0.]]],\n",
       "\n",
       "\n",
       "       [[[0., 0., 0., 1., 1.]]],\n",
       "\n",
       "\n",
       "       [[[1., 1., 1., 0., 0.]]]], dtype=float32)>"
      ]
     },
     "execution_count": 19,
     "metadata": {},
     "output_type": "execute_result"
    }
   ],
   "source": [
    "# masking으로 가리는 부분을 1, 아니면 0\n",
    "x = tf.constant([[7, 6, 0, 0, 1], [1, 2, 3, 0, 0], [0, 0, 0, 4, 5]])\n",
    "create_padding_mask(x)"
   ]
  },
  {
   "cell_type": "markdown",
   "metadata": {
    "colab_type": "text",
    "id": "Z0hzukDBgVom"
   },
   "source": [
    "번역 결과를 학습하기 위해서는 타겟 이전의 단어들만 고려해야 합니다. 그 이유는 학습 후에 번역된 문장을 만들기 위해서는 단어를 앞에서부터 뒤로 순서대로 생성해야 하기 때문입니다. 즉 앞에서 뒤로 단어를 순서대로 만들 수 있는 모델을 학습하기 위해서는 타겟 이후의 단어들을 고려하면 안 됩니다. 예를 들면 세 번째 단어를 예측하기 위해서는 첫 번재, 두 번째 단어만을 보고 예측합니다. 따라서 네 번째, 그리고 그 이후의 단어들을 가려야 합니다. "
   ]
  },
  {
   "cell_type": "code",
   "execution_count": 20,
   "metadata": {
    "colab": {},
    "colab_type": "code",
    "id": "dVxS8OPI9uI0"
   },
   "outputs": [],
   "source": [
    "def create_look_ahead_mask(size):\n",
    "  mask = 1 - tf.linalg.band_part(tf.ones((size, size)), -1, 0)\n",
    "  return mask  # (seq_len, seq_len)"
   ]
  },
  {
   "cell_type": "code",
   "execution_count": 21,
   "metadata": {
    "colab": {},
    "colab_type": "code",
    "id": "yxKGuXxaBeeE"
   },
   "outputs": [
    {
     "data": {
      "text/plain": [
       "<tf.Tensor: shape=(3, 3), dtype=float32, numpy=\n",
       "array([[0., 1., 1.],\n",
       "       [0., 0., 1.],\n",
       "       [0., 0., 0.]], dtype=float32)>"
      ]
     },
     "execution_count": 21,
     "metadata": {},
     "output_type": "execute_result"
    }
   ],
   "source": [
    "# masking으로 가리는 부분을 1, 아니면 0\n",
    "x = tf.random.uniform((1, 3))\n",
    "temp = create_look_ahead_mask(x.shape[1])\n",
    "temp"
   ]
  },
  {
   "cell_type": "markdown",
   "metadata": {
    "colab_type": "text",
    "id": "xluDl5cXYy4y"
   },
   "source": [
    "## Scaled dot product attention"
   ]
  },
  {
   "cell_type": "markdown",
   "metadata": {
    "colab_type": "text",
    "id": "vsxEE_-Wa1gF"
   },
   "source": [
    "<img src=\"./images/scaled_attention.png\" width=\"500\" alt=\"scaled_dot_product_attention\">\n",
    "\n",
    "Attention을 계산하기 위해서는 Q (query), K (key), V (value) 세 가지 요소가 필요합니다. 다음의 식을 이용해 attention을 계산합니다.\n",
    "\n",
    "$$\\Large{Attention(Q, K, V) = softmax_k(\\frac{QK^T}{\\sqrt{d_k}}) V} $$\n",
    "\n",
    "Dot-product attention을 계산할 때 sqrt(d_k)로 나눠줍니다. 그 이유는 d_k가 커질수록 dot-product의 값의 분산도 커지기 때문입니다. 이는 softmax 함수가 작은 값들을 무시할 가능성이 커지고 그 결과 dot-product의 값이 작은 부분에 gradient가 흐르지 않게 됩니다.  \n",
    "\n",
    "예를 들면 'Q', 'K' 가 평균 0 분산 1를 가진다고 가정합니다. 두 matrix의 행렬 곱의 값은 평균 0 분산 d_k를 가집니다. 따라서 sqrt(d_k)는 'Q', 'K'의 행렬 곱의 값이 평균 0 분산 1로 만들어주는 역할을 합니다. 따라서 좀 더 부드러운 softmax 값을 기대할 수 있습니다.\n",
    "\n",
    "Mask 에는 음의 무한대와 가까운 -1e9 값을 곱해줍니다. Q, K의 행렬 곱 값이 음의 무한대와 가까우면 softmax시에 0에 가까운 값이 될 것이기 때문에 masking된 부분을 무시하는 효과를 얻을 수 있습니다. 만일 masking 되는 부분에 이 값을 곱하지 않으면 Q, K의 행렬 곱 결과가 masking 되는 부분에 0이 될텐데 이는 softmax 후에 0이 되지 않을 가능성이 큽니다. "
   ]
  },
  {
   "cell_type": "code",
   "execution_count": 22,
   "metadata": {
    "colab": {},
    "colab_type": "code",
    "id": "LazzUq3bJ5SH"
   },
   "outputs": [],
   "source": [
    "def scaled_dot_product_attention(q, k, v, mask):\n",
    "\n",
    "\n",
    "  '''\n",
    "  attention weight 계산\n",
    "  seq_len_k = seq_len_v.\n",
    "  Args:\n",
    "    q: query shape == (..., seq_len_q, depth)\n",
    "    k: key shape == (..., seq_len_k, depth)\n",
    "    v: value shape == (..., seq_len_v, depth_v)\n",
    "\n",
    "  Returns:\n",
    "    output, attention_weights\n",
    "  '''\n",
    "  # transpose_a=True => 첫 번째 matrix의 마지막 두 차원이 transpose됨\n",
    "  # transpose_b=True => 두 번째 matrix의 마지막 두 차원이 transpose됨\n",
    "\n",
    "  matmul_qk = tf.matmul(q, k, transpose_b=True)  # matmul_qk: (..., seq_len_q, seq_len_k)\n",
    "\n",
    "  # tf.cast: 입력을 텐서로 바꿔줌\n",
    "  # scale matmul_qk\n",
    "  dk = tf.cast(tf.shape(k)[-1], tf.float32)\n",
    "  scaled_attention_logits = matmul_qk / tf.math.sqrt(dk)\n",
    "\n",
    "  # mask 된 부분에 -1e9를 더해줌 => softmax 후 0이 됨.\n",
    "  if mask is not None:\n",
    "    scaled_attention_logits += (mask * -1e9)  \n",
    "\n",
    "  # softmax is normalized on the last axis (seq_len_k) so that the scores\n",
    "  # add up to 1.\n",
    "  attention_weights = tf.nn.softmax(scaled_attention_logits, axis=-1)  # (..., seq_len_q, seq_len_k)\n",
    "\n",
    "  output = tf.matmul(attention_weights, v)  # (..., seq_len_q, depth_v)\n",
    "\n",
    "  return output, attention_weights"
   ]
  },
  {
   "cell_type": "markdown",
   "metadata": {
    "colab_type": "text",
    "id": "FiqETnhCkoXh"
   },
   "source": [
    "softmax 함수가 attention_weights의 마지막 축 seq_len_k 방향으로 합이 1이 되도록 계산되었기 때문에 각 Q에 대한 K의 중요도를 의미합니다.\n",
    "\n",
    "즉 output은 각 Q에 대해 중요한 V만을 남기고 필요없는 V는 버릴 수 있습니다."
   ]
  },
  {
   "cell_type": "code",
   "execution_count": 23,
   "metadata": {
    "colab": {},
    "colab_type": "code",
    "id": "n90YjClyInFy"
   },
   "outputs": [],
   "source": [
    "def print_out(q, k, v):\n",
    "  temp_out, temp_attn = scaled_dot_product_attention(\n",
    "      q, k, v, None)\n",
    "  print ('Attention weights are:')\n",
    "  print (temp_attn)\n",
    "  print ('Output is:')\n",
    "  print (temp_out)"
   ]
  },
  {
   "cell_type": "code",
   "execution_count": 24,
   "metadata": {
    "colab": {},
    "colab_type": "code",
    "id": "yAzUAf2DPlNt"
   },
   "outputs": [
    {
     "name": "stdout",
     "output_type": "stream",
     "text": [
      "Attention weights are:\n",
      "tf.Tensor([[0. 1. 0. 0.]], shape=(1, 4), dtype=float32)\n",
      "Output is:\n",
      "tf.Tensor([[10.  0.]], shape=(1, 2), dtype=float32)\n"
     ]
    }
   ],
   "source": [
    "np.set_printoptions(suppress=True)\n",
    "\n",
    "temp_k = tf.constant([[10,0,0],\n",
    "                      [0,10,0],\n",
    "                      [0,0,10],\n",
    "                      [0,0,10]], dtype=tf.float32)  # (4, 3)\n",
    "\n",
    "temp_v = tf.constant([[   1,0],\n",
    "                      [  10,0],\n",
    "                      [ 100,5],\n",
    "                      [1000,6]], dtype=tf.float32)  # (4, 2)\n",
    "\n",
    "# This `query` aligns with the second `key`,\n",
    "# so the second `value` is returned.\n",
    "\n",
    "temp_q = tf.constant([[0, 10, 0]], dtype=tf.float32)  # (1, 3)\n",
    "\n",
    "# output; 0 * [1,0] + 1 * [10,0] + 0 * [100,5] + 0 * [1000, 6]\n",
    "# 주어진 q에 대해 중요한 v만 남긴 결과가 output으로 나옵니다.\n",
    "print_out(temp_q, temp_k, temp_v)"
   ]
  },
  {
   "cell_type": "code",
   "execution_count": 25,
   "metadata": {
    "colab": {},
    "colab_type": "code",
    "id": "zg6k-fGhgXra"
   },
   "outputs": [
    {
     "name": "stdout",
     "output_type": "stream",
     "text": [
      "Attention weights are:\n",
      "tf.Tensor([[0.  0.  0.5 0.5]], shape=(1, 4), dtype=float32)\n",
      "Output is:\n",
      "tf.Tensor([[550.    5.5]], shape=(1, 2), dtype=float32)\n"
     ]
    }
   ],
   "source": [
    "# 즉 output은 temp_v의 row vector를 attention weight에 의해 weighted average 된 값이라고 할 수 있습니다.\n",
    "temp_q = tf.constant([[0, 0, 10]], dtype=tf.float32)  # (1, 3)\n",
    "# output: 0 * [1,0] + 0 * [10,0] + 0.5 * [100,5] + 0.5 * [1000, 6]\n",
    "print_out(temp_q, temp_k, temp_v)"
   ]
  },
  {
   "cell_type": "code",
   "execution_count": 26,
   "metadata": {
    "colab": {},
    "colab_type": "code",
    "id": "UAq3YOzUgXhb"
   },
   "outputs": [
    {
     "name": "stdout",
     "output_type": "stream",
     "text": [
      "Attention weights are:\n",
      "tf.Tensor([[0.5 0.5 0.  0. ]], shape=(1, 4), dtype=float32)\n",
      "Output is:\n",
      "tf.Tensor([[5.5 0. ]], shape=(1, 2), dtype=float32)\n"
     ]
    }
   ],
   "source": [
    "# This query aligns equally with the first and second key, \n",
    "# so their values get averaged.\n",
    "temp_q = tf.constant([[10, 10, 0]], dtype=tf.float32)  # (1, 3)\n",
    "# output: 0.5 * [1,0] + 0.5 * [10,0] + 0 * [100,5] + 0 * [1000, 6]\n",
    "print_out(temp_q, temp_k, temp_v)"
   ]
  },
  {
   "cell_type": "markdown",
   "metadata": {
    "colab_type": "text",
    "id": "aOz-4_XIhaTP"
   },
   "source": [
    "이제까지는 q에 대해 각각 output을 계산했는데 이번에는 q들을 묶어서 계산합니다."
   ]
  },
  {
   "cell_type": "code",
   "execution_count": 27,
   "metadata": {
    "colab": {},
    "colab_type": "code",
    "id": "6dlU8Tm-hYrF"
   },
   "outputs": [
    {
     "name": "stdout",
     "output_type": "stream",
     "text": [
      "Attention weights are:\n",
      "tf.Tensor(\n",
      "[[0.  0.  0.5 0.5]\n",
      " [0.  1.  0.  0. ]\n",
      " [0.5 0.5 0.  0. ]], shape=(3, 4), dtype=float32)\n",
      "Output is:\n",
      "tf.Tensor(\n",
      "[[550.    5.5]\n",
      " [ 10.    0. ]\n",
      " [  5.5   0. ]], shape=(3, 2), dtype=float32)\n"
     ]
    }
   ],
   "source": [
    "temp_q = tf.constant([[0, 0, 10], [0, 10, 0], [10, 10, 0]], dtype=tf.float32)  # (3, 3)\n",
    "print_out(temp_q, temp_k, temp_v)"
   ]
  },
  {
   "cell_type": "markdown",
   "metadata": {
    "colab_type": "text",
    "id": "kmzGPEy64qmA"
   },
   "source": [
    "## Multi-head attention"
   ]
  },
  {
   "cell_type": "markdown",
   "metadata": {
    "colab_type": "text",
    "id": "fz5BMC8Kaoqo"
   },
   "source": [
    "<img src=\"./images/multi_head_attention.png\" width=\"500\" alt=\"multi-head attention\">\n",
    "\n",
    "\n",
    "Multi-head attention은 다음 4가지 부분으로 구성되어 있습니다:\n",
    "*    Linear layers and split into heads.\n",
    "*    Scaled dot-product attention.\n",
    "*    Concatenation of heads.\n",
    "*    Final linear layer."
   ]
  },
  {
   "cell_type": "markdown",
   "metadata": {
    "colab_type": "text",
    "id": "JPmbr6F1C-v_"
   },
   "source": [
    "multi-head attention에는 Q (query), K (key), V (value) 세 가지가 입력으로 들어갑니다. 이 입력들은 linear (Dense) layer를 통과한 후 multiple head로 쪼갭니다 (multi-head attention).\n",
    "\n",
    "각 head 별로 `scaled_dot_product_attention`을 계산합니다. 여러 head에서 계산된 attention output은 concatenation이 됩니다. 그 다음 linear (Dense) layer를 통과합니다.\n",
    "\n",
    "여러 head을 이용해 attention output을 계산하는 이유는 서로 다른 시점의 중요한 정보를 뽑아낼 수 있고 이 정보들을 통해 모델의 학습 능력을 향상시킬 수 있기 때문입니다. \n",
    "\n",
    "여러 head로 쪼개지 않고 하나의 attention output을 계산하는 것과 여러 head을 이용해 여러 개의 attention output을 계산하는 것은 연산량에 있어서 차이가 없습니다."
   ]
  },
  {
   "cell_type": "code",
   "execution_count": 28,
   "metadata": {
    "colab": {},
    "colab_type": "code",
    "id": "BSV3PPKsYecw"
   },
   "outputs": [],
   "source": [
    "class MultiHeadAttention(tf.keras.layers.Layer):\n",
    "  def __init__(self, d_model, num_heads):\n",
    "    super(MultiHeadAttention, self).__init__()\n",
    "    self.num_heads = num_heads\n",
    "    self.d_model = d_model\n",
    "    \n",
    "    assert d_model % self.num_heads == 0 # d_model 길이의 vector를 num_heads 만큼 쪼개야 하기 때문에 나누어 떨어져야합니다.\n",
    "    \n",
    "    self.depth = d_model // self.num_heads\n",
    "    \n",
    "    self.wq = tf.keras.layers.Dense(d_model) # d_model: 출력 값의 차원, query를 계산하는데 쓰임\n",
    "    self.wk = tf.keras.layers.Dense(d_model) # d_model: 출력 값의 차원, key를 계산하는데 쓰임\n",
    "    self.wv = tf.keras.layers.Dense(d_model) # d_model: 출력 값의 차원, value를 계산하는데 쓰임\n",
    "    \n",
    "    self.dense = tf.keras.layers.Dense(d_model)\n",
    "        \n",
    "  def split_heads(self, x, batch_size):\n",
    "    \n",
    "    # d_model을 num_heads * depth 로 쪼갭니다.\n",
    "    x = tf.reshape(x, (batch_size, -1, self.num_heads, self.depth))\n",
    "    return tf.transpose(x, perm=[0, 2, 1, 3]) \n",
    "    \n",
    "  def call(self, v, k, q, mask):\n",
    "    batch_size = tf.shape(q)[0]\n",
    "    \n",
    "    q = self.wq(q)  # (batch_size, seq_len, d_model)\n",
    "    k = self.wk(k)  # (batch_size, seq_len, d_model)\n",
    "    v = self.wv(v)  # (batch_size, seq_len, d_model)\n",
    "    \n",
    "    q = self.split_heads(q, batch_size)  # (batch_size, num_heads, seq_len_q, depth)\n",
    "    k = self.split_heads(k, batch_size)  # (batch_size, num_heads, seq_len_k, depth)\n",
    "    v = self.split_heads(v, batch_size)  # (batch_size, num_heads, seq_len_v, depth)\n",
    "    \n",
    "    # scaled_attention.shape == (batch_size, num_heads, seq_len_q, depth)\n",
    "    # attention_weights.shape == (batch_size, num_heads, seq_len_q, seq_len_k)\n",
    "    scaled_attention, attention_weights = scaled_dot_product_attention(\n",
    "        q, k, v, mask)\n",
    "    \n",
    "    scaled_attention = tf.transpose(scaled_attention, perm=[0, 2, 1, 3])  # (batch_size, seq_len_q, num_heads, depth)\n",
    "    \n",
    "    # num_head 만큼의 attention output을 concatenation 합니다.\n",
    "    concat_attention = tf.reshape(scaled_attention, \n",
    "                                  (batch_size, -1, self.d_model))  # (batch_size, seq_len_q, d_model), d_model=num_heads*depth\n",
    "\n",
    "    output = self.dense(concat_attention)  # (batch_size, seq_len_q, d_model)\n",
    "        \n",
    "    return output, attention_weights"
   ]
  },
  {
   "cell_type": "markdown",
   "metadata": {
    "colab_type": "text",
    "id": "0D8FJue5lDyZ"
   },
   "source": [
    "Create a `MultiHeadAttention` layer to try out. At each location in the sequence, `y`, the `MultiHeadAttention` runs all 8 attention heads across all other locations in the sequence, returning a new vector of the same length at each location."
   ]
  },
  {
   "cell_type": "code",
   "execution_count": 29,
   "metadata": {
    "colab": {},
    "colab_type": "code",
    "id": "Hu94p-_-2_BX"
   },
   "outputs": [
    {
     "data": {
      "text/plain": [
       "(TensorShape([1, 60, 512]), TensorShape([1, 8, 60, 60]))"
      ]
     },
     "execution_count": 29,
     "metadata": {},
     "output_type": "execute_result"
    }
   ],
   "source": [
    "temp_mha = MultiHeadAttention(d_model=512, num_heads=8)\n",
    "y = tf.random.uniform((1, 60, 512))  # (batch_size, encoder_sequence, d_model)\n",
    "out, attn = temp_mha(v=y, k=y, q=y, mask=None)\n",
    "out.shape, attn.shape\n",
    "# 총 8개의 attention weight가 생성됩니다."
   ]
  },
  {
   "cell_type": "markdown",
   "metadata": {
    "colab_type": "text",
    "id": "RdDqGayx67vv"
   },
   "source": [
    "## Point wise feed forward network"
   ]
  },
  {
   "cell_type": "markdown",
   "metadata": {
    "colab_type": "text",
    "id": "gBqzJXGfHK3X"
   },
   "source": [
    "Point wise feed forward network는 두 개의 fully-connected layer (linear, dense layer) 와 ReLU 활성화 함수로 구성되어 있습니다."
   ]
  },
  {
   "cell_type": "code",
   "execution_count": 30,
   "metadata": {
    "colab": {},
    "colab_type": "code",
    "id": "ET7xLt0yCT6Z"
   },
   "outputs": [],
   "source": [
    "def point_wise_feed_forward_network(d_model, dff):\n",
    "  return tf.keras.Sequential([\n",
    "      tf.keras.layers.Dense(dff, activation='relu'),  # (batch_size, seq_len, dff)\n",
    "      tf.keras.layers.Dense(d_model)  # (batch_size, seq_len, d_model)\n",
    "  ])"
   ]
  },
  {
   "cell_type": "code",
   "execution_count": 31,
   "metadata": {
    "colab": {},
    "colab_type": "code",
    "id": "mytb1lPyOHLB"
   },
   "outputs": [
    {
     "data": {
      "text/plain": [
       "TensorShape([64, 50, 512])"
      ]
     },
     "execution_count": 31,
     "metadata": {},
     "output_type": "execute_result"
    }
   ],
   "source": [
    "sample_ffn = point_wise_feed_forward_network(512, 2048)\n",
    "sample_ffn(tf.random.uniform((64, 50, 512))).shape"
   ]
  },
  {
   "cell_type": "markdown",
   "metadata": {
    "colab_type": "text",
    "id": "7e7hKcxn6-zd"
   },
   "source": [
    "## Encoder and decoder"
   ]
  },
  {
   "cell_type": "markdown",
   "metadata": {
    "colab_type": "text",
    "id": "yScbC0MUH8dS"
   },
   "source": [
    "<img src=\"https://www.tensorflow.org/images/tutorials/transformer/transformer.png\" width=\"600\" alt=\"transformer\">"
   ]
  },
  {
   "cell_type": "markdown",
   "metadata": {
    "colab_type": "text",
    "id": "QFv-FNYUmvpn"
   },
   "source": [
    "### Encoder layer\n",
    "\n",
    "각 encoder layer는 두 개의 sublayer로 구성되어 있습니다.\n",
    "\n",
    "1.   Multi-head attention (with padding mask) \n",
    "2.    Point wise feed forward networks. \n",
    "\n",
    "각각의 sublayer들은 residual connection 과 layer normalization을 차례대로 적용합니다. residual connection은 신경망의 gradient 소실 문제를 해결할 수 있습니다.\n",
    "\n",
    "각 sublayer의 output은 `LayerNorm(x + Sublayer(x))`로 계산됩니다. normalization은 `d_model` (last) axis 방향으로 이루어집니다. N개의 encoder가 쌓여서 하나의 전체 encoder layer를 구성합니다."
   ]
  },
  {
   "cell_type": "code",
   "execution_count": 32,
   "metadata": {
    "colab": {},
    "colab_type": "code",
    "id": "ncyS-Ms3i2x_"
   },
   "outputs": [],
   "source": [
    "class EncoderLayer(tf.keras.layers.Layer):\n",
    "  def __init__(self, d_model, num_heads, dff, rate=0.1):\n",
    "    super(EncoderLayer, self).__init__()\n",
    "\n",
    "    self.mha = MultiHeadAttention(d_model, num_heads)\n",
    "    self.ffn = point_wise_feed_forward_network(d_model, dff)\n",
    "\n",
    "    self.layernorm1 = tf.keras.layers.LayerNormalization(epsilon=1e-6)\n",
    "    self.layernorm2 = tf.keras.layers.LayerNormalization(epsilon=1e-6)\n",
    "    \n",
    "    self.dropout1 = tf.keras.layers.Dropout(rate)\n",
    "    self.dropout2 = tf.keras.layers.Dropout(rate)\n",
    "    \n",
    "  def call(self, x, training, mask):\n",
    "\n",
    "    attn_output, _ = self.mha(x, x, x, mask)  # (batch_size, input_seq_len, d_model)\n",
    "    attn_output = self.dropout1(attn_output, training=training)\n",
    "    out1 = self.layernorm1(x + attn_output)  # (batch_size, input_seq_len, d_model)\n",
    "    \n",
    "    ffn_output = self.ffn(out1)  # (batch_size, input_seq_len, d_model)\n",
    "    ffn_output = self.dropout2(ffn_output, training=training)\n",
    "    out2 = self.layernorm2(out1 + ffn_output)  # (batch_size, input_seq_len, d_model)\n",
    "    \n",
    "    return out2"
   ]
  },
  {
   "cell_type": "code",
   "execution_count": 33,
   "metadata": {
    "colab": {},
    "colab_type": "code",
    "id": "AzZRXdO0mI48"
   },
   "outputs": [
    {
     "data": {
      "text/plain": [
       "TensorShape([64, 43, 512])"
      ]
     },
     "execution_count": 33,
     "metadata": {},
     "output_type": "execute_result"
    }
   ],
   "source": [
    "sample_encoder_layer = EncoderLayer(512, 8, 2048)\n",
    "\n",
    "sample_encoder_layer_output = sample_encoder_layer(\n",
    "    tf.random.uniform((64, 43, 512)), False, None)\n",
    "\n",
    "sample_encoder_layer_output.shape  # (batch_size, input_seq_len, d_model)"
   ]
  },
  {
   "cell_type": "markdown",
   "metadata": {
    "colab_type": "text",
    "id": "6LO_48Owmx_o"
   },
   "source": [
    "### Decoder layer\n",
    "\n",
    "각각 decoder layer를 다음 sublayer로 구성되어 있습니다.\n",
    "\n",
    "\n",
    "1.   Masked multi-head attention (with look ahead mask and padding mask), decoder의 입력은 영어 문장이 들어갑니다. 학습 과정에서는 전체 문장이 입력값으로 들어가는데 문장의 다음 단어를 예측하기 위해서는 이전 단어들만 보고 예측해야 합니다. 따라서 이후 단어들에 대해서는 masking을 통해 가려줍니다. (look ahead mask).\n",
    "2.   Multi-head attention (with padding mask). V (value) and K (key)는 encoder의 출력값을 이용하고, Q (query)는 decoder의 multi-head self attention의 출력 값을 이용합니다.\n",
    "3.   Point wise feed forward networks\n",
    "\n",
    "각 sublayer의 output은 LayerNorm(x + Sublayer(x))로 계산됩니다. normalization은 d_model (last) axis 방향으로 이루어집니다. N개의 decoder가 쌓여서 하나의 전체 decoder layer를 구성합니다.\n",
    "\n",
    "V, K는 encoder의 출력값, Q는 decoder의 multi-head self attention 출력값을 이용하기 때문에 attention weights는 주어진 decoder 입력값에 대한 encoder 출력값의 중요도를 의미합니다. 즉, decoder는 다음 단어를 encoder의 출력값과 decoder의 self-attention을 이용하여 예측합니다. "
   ]
  },
  {
   "cell_type": "code",
   "execution_count": 34,
   "metadata": {
    "colab": {},
    "colab_type": "code",
    "id": "9SoX0-vd1hue"
   },
   "outputs": [],
   "source": [
    "class DecoderLayer(tf.keras.layers.Layer):\n",
    "  def __init__(self, d_model, num_heads, dff, rate=0.1):\n",
    "    super(DecoderLayer, self).__init__()\n",
    "\n",
    "    self.mha1 = MultiHeadAttention(d_model, num_heads)\n",
    "    self.mha2 = MultiHeadAttention(d_model, num_heads)\n",
    "\n",
    "    self.ffn = point_wise_feed_forward_network(d_model, dff)\n",
    "   \n",
    "    # 표준편차가 0이 되는 경우에 에러가 나기 때문에 표준편차에 epsilon를 더해줍니다.\n",
    "    self.layernorm1 = tf.keras.layers.LayerNormalization(epsilon=1e-6) \n",
    "    self.layernorm2 = tf.keras.layers.LayerNormalization(epsilon=1e-6)\n",
    "    self.layernorm3 = tf.keras.layers.LayerNormalization(epsilon=1e-6)\n",
    "    \n",
    "    self.dropout1 = tf.keras.layers.Dropout(rate)\n",
    "    self.dropout2 = tf.keras.layers.Dropout(rate)\n",
    "    self.dropout3 = tf.keras.layers.Dropout(rate)\n",
    "    \n",
    "    \n",
    "  def call(self, x, enc_output, training, \n",
    "           look_ahead_mask, padding_mask):\n",
    "    # enc_output.shape == (batch_size, input_seq_len, d_model)\n",
    "\n",
    "    attn1, attn_weights_block1 = self.mha1(x, x, x, look_ahead_mask)  # (batch_size, target_seq_len, d_model)\n",
    "    attn1 = self.dropout1(attn1, training=training)\n",
    "    out1 = self.layernorm1(attn1 + x)\n",
    "\n",
    "    # encoder의 출력값이 key, value에 들어갑니다.\n",
    "    attn2, attn_weights_block2 = self.mha2(\n",
    "        enc_output, enc_output, out1, padding_mask)  # (batch_size, target_seq_len, d_model)\n",
    "    attn2 = self.dropout2(attn2, training=training)\n",
    "    out2 = self.layernorm2(attn2 + out1)  # (batch_size, target_seq_len, d_model)\n",
    "    \n",
    "    ffn_output = self.ffn(out2)  # (batch_size, target_seq_len, d_model)\n",
    "    ffn_output = self.dropout3(ffn_output, training=training)\n",
    "    out3 = self.layernorm3(ffn_output + out2)  # (batch_size, target_seq_len, d_model)\n",
    "    \n",
    "    return out3, attn_weights_block1, attn_weights_block2"
   ]
  },
  {
   "cell_type": "code",
   "execution_count": 35,
   "metadata": {
    "colab": {},
    "colab_type": "code",
    "id": "Ne2Bqx8k71l0"
   },
   "outputs": [
    {
     "data": {
      "text/plain": [
       "TensorShape([64, 50, 512])"
      ]
     },
     "execution_count": 35,
     "metadata": {},
     "output_type": "execute_result"
    }
   ],
   "source": [
    "sample_decoder_layer = DecoderLayer(512, 8, 2048)\n",
    "\n",
    "sample_decoder_layer_output, _, _ = sample_decoder_layer(\n",
    "    tf.random.uniform((64, 50, 512)), sample_encoder_layer_output, \n",
    "    False, None, None)\n",
    "\n",
    "sample_decoder_layer_output.shape  # (batch_size, target_seq_len, d_model)"
   ]
  },
  {
   "cell_type": "markdown",
   "metadata": {
    "colab_type": "text",
    "id": "SE1H51Ajm0q1"
   },
   "source": [
    "### Encoder\n",
    "\n",
    "`Encoder`의 구성요소는 다음과 같습니다.\n",
    "1.   Input Embedding\n",
    "2.   Positional Encoding\n",
    "3.   N encoder layers\n",
    "\n",
    "입력 embedding 과 positional encoding을 더합니다. 더한 값을 N개의 encoder layer의 입력값으로 이용합니다."
   ]
  },
  {
   "cell_type": "code",
   "execution_count": 36,
   "metadata": {
    "colab": {},
    "colab_type": "code",
    "id": "jpEox7gJ8FCI"
   },
   "outputs": [],
   "source": [
    "class Encoder(tf.keras.layers.Layer):\n",
    "  def __init__(self, num_layers, d_model, num_heads, dff, input_vocab_size,\n",
    "               maximum_position_encoding, rate=0.1):\n",
    "    super(Encoder, self).__init__()\n",
    "\n",
    "    self.d_model = d_model\n",
    "    self.num_layers = num_layers\n",
    "    \n",
    "    self.embedding = tf.keras.layers.Embedding(input_vocab_size, d_model)\n",
    "    self.pos_encoding = positional_encoding(maximum_position_encoding, \n",
    "                                            self.d_model)\n",
    "    \n",
    "    \n",
    "    self.enc_layers = [EncoderLayer(d_model, num_heads, dff, rate) \n",
    "                       for _ in range(num_layers)]\n",
    "  \n",
    "    self.dropout = tf.keras.layers.Dropout(rate)\n",
    "        \n",
    "  def call(self, x, training, mask):\n",
    "\n",
    "    seq_len = tf.shape(x)[1]\n",
    "    \n",
    "    # adding embedding and position encoding.\n",
    "    x = self.embedding(x)  # (batch_size, input_seq_len, d_model)\n",
    "    x *= tf.math.sqrt(tf.cast(self.d_model, tf.float32))\n",
    "    x += self.pos_encoding[:, :seq_len, :]\n",
    "\n",
    "    x = self.dropout(x, training=training)\n",
    "    \n",
    "    for i in range(self.num_layers):\n",
    "      x = self.enc_layers[i](x, training, mask)\n",
    "    \n",
    "    return x  # (batch_size, input_seq_len, d_model)"
   ]
  },
  {
   "cell_type": "code",
   "execution_count": 37,
   "metadata": {
    "colab": {},
    "colab_type": "code",
    "id": "8QG9nueFQKXx"
   },
   "outputs": [
    {
     "name": "stdout",
     "output_type": "stream",
     "text": [
      "(64, 62, 512)\n"
     ]
    }
   ],
   "source": [
    "sample_encoder = Encoder(num_layers=2, d_model=512, num_heads=8, \n",
    "                         dff=2048, input_vocab_size=8500,\n",
    "                         maximum_position_encoding=10000)\n",
    "temp_input = tf.random.uniform((64, 62), dtype=tf.int64, minval=0, maxval=200)\n",
    "\n",
    "sample_encoder_output = sample_encoder(temp_input, training=False, mask=None)\n",
    "\n",
    "print (sample_encoder_output.shape)  # (batch_size, input_seq_len, d_model)"
   ]
  },
  {
   "cell_type": "markdown",
   "metadata": {
    "colab_type": "text",
    "id": "p-uO6ls8m2O5"
   },
   "source": [
    "### Decoder"
   ]
  },
  {
   "cell_type": "markdown",
   "metadata": {
    "colab_type": "text",
    "id": "ZtT7PKzrXkNr"
   },
   "source": [
    "`Decoder`의 구성 요소는 다음과 같습니다.\n",
    "1.   Output Embedding, 번역 결과가 되는 영어 문장에 대한 embedding입니다.\n",
    "2.   Positional Encoding \n",
    "3.   N decoder layers\n",
    "\n",
    "타겟인 영어 문장이 decoder의 입력값으로 들어가기 때문이 이 또한 positional encoding이 필요합니다. decoder의 최종 출력값을 결과를 예측하는 마지막 layer의 입력값으로 들어갑니다."
   ]
  },
  {
   "cell_type": "code",
   "execution_count": 38,
   "metadata": {
    "colab": {},
    "colab_type": "code",
    "id": "d5_d5-PLQXwY"
   },
   "outputs": [],
   "source": [
    "class Decoder(tf.keras.layers.Layer):\n",
    "  def __init__(self, num_layers, d_model, num_heads, dff, target_vocab_size,\n",
    "               maximum_position_encoding, rate=0.1):\n",
    "    super(Decoder, self).__init__()\n",
    "\n",
    "    self.d_model = d_model\n",
    "    self.num_layers = num_layers\n",
    "    \n",
    "    self.embedding = tf.keras.layers.Embedding(target_vocab_size, d_model)\n",
    "    self.pos_encoding = positional_encoding(maximum_position_encoding, d_model)\n",
    "    \n",
    "    self.dec_layers = [DecoderLayer(d_model, num_heads, dff, rate) \n",
    "                       for _ in range(num_layers)]\n",
    "    self.dropout = tf.keras.layers.Dropout(rate)\n",
    "    \n",
    "  def call(self, x, enc_output, training, \n",
    "           look_ahead_mask, padding_mask):\n",
    "\n",
    "    seq_len = tf.shape(x)[1]\n",
    "    attention_weights = {}\n",
    "    \n",
    "    x = self.embedding(x)  # (batch_size, target_seq_len, d_model)\n",
    "    x *= tf.math.sqrt(tf.cast(self.d_model, tf.float32))\n",
    "    x += self.pos_encoding[:, :seq_len, :]\n",
    "    \n",
    "    x = self.dropout(x, training=training)\n",
    "\n",
    "    for i in range(self.num_layers):\n",
    "      x, block1, block2 = self.dec_layers[i](x, enc_output, training,\n",
    "                                             look_ahead_mask, padding_mask)\n",
    "      \n",
    "      attention_weights['decoder_layer{}_block1'.format(i+1)] = block1\n",
    "      attention_weights['decoder_layer{}_block2'.format(i+1)] = block2\n",
    "    \n",
    "    # x.shape == (batch_size, target_seq_len, d_model)\n",
    "    return x, attention_weights"
   ]
  },
  {
   "cell_type": "code",
   "execution_count": 39,
   "metadata": {
    "colab": {},
    "colab_type": "code",
    "id": "a1jXoAMRZyvu"
   },
   "outputs": [
    {
     "data": {
      "text/plain": [
       "(TensorShape([64, 26, 512]), TensorShape([64, 8, 26, 62]))"
      ]
     },
     "execution_count": 39,
     "metadata": {},
     "output_type": "execute_result"
    }
   ],
   "source": [
    "sample_decoder = Decoder(num_layers=2, d_model=512, num_heads=8, \n",
    "                         dff=2048, target_vocab_size=8000,\n",
    "                         maximum_position_encoding=5000)\n",
    "temp_input = tf.random.uniform((64, 26), dtype=tf.int64, minval=0, maxval=200)\n",
    "\n",
    "output, attn = sample_decoder(temp_input, \n",
    "                              enc_output=sample_encoder_output, \n",
    "                              training=False,\n",
    "                              look_ahead_mask=None, \n",
    "                              padding_mask=None)\n",
    "\n",
    "output.shape, attn['decoder_layer2_block2'].shape"
   ]
  },
  {
   "cell_type": "markdown",
   "metadata": {
    "colab_type": "text",
    "id": "y54xnJnuYgJ7"
   },
   "source": [
    "## Transformer 생성하기"
   ]
  },
  {
   "cell_type": "markdown",
   "metadata": {
    "colab_type": "text",
    "id": "uERO1y54cOKq"
   },
   "source": [
    "Transformer는 encoder, decoder, 최종 linear layer로 구성됩니다."
   ]
  },
  {
   "cell_type": "code",
   "execution_count": 40,
   "metadata": {
    "colab": {},
    "colab_type": "code",
    "id": "PED3bIpOYkBu"
   },
   "outputs": [],
   "source": [
    "class Transformer(tf.keras.Model):\n",
    "  def __init__(self, num_layers, d_model, num_heads, dff, input_vocab_size, \n",
    "               target_vocab_size, pe_input, pe_target, rate=0.1):\n",
    "    super(Transformer, self).__init__()\n",
    "\n",
    "    self.encoder = Encoder(num_layers, d_model, num_heads, dff, \n",
    "                           input_vocab_size, pe_input, rate)\n",
    "\n",
    "    self.decoder = Decoder(num_layers, d_model, num_heads, dff, \n",
    "                           target_vocab_size, pe_target, rate)\n",
    "\n",
    "    self.final_layer = tf.keras.layers.Dense(target_vocab_size)\n",
    "    \n",
    "  def call(self, inp, tar, training, enc_padding_mask, \n",
    "           look_ahead_mask, dec_padding_mask):\n",
    "\n",
    "    enc_output = self.encoder(inp, training, enc_padding_mask)  # (batch_size, inp_seq_len, d_model)\n",
    "    \n",
    "    # dec_output.shape == (batch_size, tar_seq_len, d_model)\n",
    "    dec_output, attention_weights = self.decoder(\n",
    "        tar, enc_output, training, look_ahead_mask, dec_padding_mask)\n",
    "    \n",
    "    final_output = self.final_layer(dec_output)  # (batch_size, tar_seq_len, target_vocab_size)\n",
    "    \n",
    "    return final_output, attention_weights"
   ]
  },
  {
   "cell_type": "code",
   "execution_count": 41,
   "metadata": {
    "colab": {},
    "colab_type": "code",
    "id": "tJ4fbQcIkHW1"
   },
   "outputs": [
    {
     "data": {
      "text/plain": [
       "TensorShape([64, 36, 8000])"
      ]
     },
     "execution_count": 41,
     "metadata": {},
     "output_type": "execute_result"
    }
   ],
   "source": [
    "sample_transformer = Transformer(\n",
    "    num_layers=2, d_model=512, num_heads=8, dff=2048, \n",
    "    input_vocab_size=8500, target_vocab_size=8000, \n",
    "    pe_input=10000, pe_target=6000)\n",
    "\n",
    "temp_input = tf.random.uniform((64, 38), dtype=tf.int64, minval=0, maxval=200)\n",
    "temp_target = tf.random.uniform((64, 36), dtype=tf.int64, minval=0, maxval=200)\n",
    "\n",
    "fn_out, _ = sample_transformer(temp_input, temp_target, training=False, \n",
    "                               enc_padding_mask=None, \n",
    "                               look_ahead_mask=None,\n",
    "                               dec_padding_mask=None)\n",
    "\n",
    "fn_out.shape  # (batch_size, tar_seq_len, target_vocab_size)"
   ]
  },
  {
   "cell_type": "markdown",
   "metadata": {
    "colab_type": "text",
    "id": "wsINyf1VEQLC"
   },
   "source": [
    "## hyperparameter 설정"
   ]
  },
  {
   "cell_type": "markdown",
   "metadata": {
    "colab_type": "text",
    "id": "zVjWCxFNcgbt"
   },
   "source": [
    "모델의 크기를 줄이고 학습 속도를 키우기 위해 *num_layers, d_model, dff* 가 작아야 합니다.\n",
    "\n",
    "*num_layers=6*, *d_model = 512*, *dff = 2048*. 은 \"attention is all you need\" 논문의 base model에 해당합니다."
   ]
  },
  {
   "cell_type": "code",
   "execution_count": 42,
   "metadata": {
    "colab": {},
    "colab_type": "code",
    "id": "lnJn5SLA2ahP"
   },
   "outputs": [],
   "source": [
    "num_layers = 4\n",
    "d_model = 128\n",
    "dff = 512\n",
    "num_heads = 8\n",
    "\n",
    "input_vocab_size = tokenizer_pt.vocab_size + 2 # start, end token이 추가되었기 때문에 2가 더해집니다.\n",
    "target_vocab_size = tokenizer_en.vocab_size + 2 # start, end token이 추가되었기 때문에 2가 더해집니다.\n",
    "dropout_rate = 0.1"
   ]
  },
  {
   "cell_type": "markdown",
   "metadata": {
    "colab_type": "text",
    "id": "xYEGhEOtzn5W"
   },
   "source": [
    "## Optimizer"
   ]
  },
  {
   "cell_type": "markdown",
   "metadata": {
    "colab_type": "text",
    "id": "GOmWW--yP3zx"
   },
   "source": [
    "Adam optimizer와 다음 learning rate scheduler를 이용합니다.\n",
    "\n",
    "$$\\Large{lrate = d_{model}^{-0.5} * min(step{\\_}num^{-0.5}, step{\\_}num * warmup{\\_}steps^{-1.5})}$$\n"
   ]
  },
  {
   "cell_type": "code",
   "execution_count": 43,
   "metadata": {
    "colab": {},
    "colab_type": "code",
    "id": "iYQdOO1axwEI"
   },
   "outputs": [],
   "source": [
    "class CustomSchedule(tf.keras.optimizers.schedules.LearningRateSchedule):\n",
    "  def __init__(self, d_model, warmup_steps=4000):\n",
    "    super(CustomSchedule, self).__init__()\n",
    "    \n",
    "    self.d_model = d_model\n",
    "    self.d_model = tf.cast(self.d_model, tf.float32)\n",
    "\n",
    "    self.warmup_steps = warmup_steps\n",
    "    \n",
    "  def __call__(self, step):\n",
    "    arg1 = tf.math.rsqrt(step)\n",
    "    arg2 = step * (self.warmup_steps ** -1.5)\n",
    "    \n",
    "    return tf.math.rsqrt(self.d_model) * tf.math.minimum(arg1, arg2)"
   ]
  },
  {
   "cell_type": "code",
   "execution_count": 44,
   "metadata": {
    "colab": {},
    "colab_type": "code",
    "id": "7r4scdulztRx"
   },
   "outputs": [],
   "source": [
    "learning_rate = CustomSchedule(d_model)\n",
    "\n",
    "optimizer = tf.keras.optimizers.Adam(learning_rate, beta_1=0.9, beta_2=0.98, \n",
    "                                     epsilon=1e-9)"
   ]
  },
  {
   "cell_type": "code",
   "execution_count": 45,
   "metadata": {
    "colab": {},
    "colab_type": "code",
    "id": "f33ZCgvHpPdG"
   },
   "outputs": [
    {
     "data": {
      "text/plain": [
       "Text(0.5, 0, 'Train Step')"
      ]
     },
     "execution_count": 45,
     "metadata": {},
     "output_type": "execute_result"
    },
    {
     "data": {
      "image/png": "[encoded data removed]",
      "text/plain": [
       "<Figure size 432x288 with 1 Axes>"
      ]
     },
     "metadata": {
      "needs_background": "light"
     },
     "output_type": "display_data"
    }
   ],
   "source": [
    "temp_learning_rate_schedule = CustomSchedule(d_model)\n",
    "\n",
    "plt.plot(temp_learning_rate_schedule(tf.range(40000, dtype=tf.float32)))\n",
    "plt.ylabel(\"Learning Rate\")\n",
    "plt.xlabel(\"Train Step\")"
   ]
  },
  {
   "cell_type": "markdown",
   "metadata": {
    "colab_type": "text",
    "id": "YgkDE7hzo8r5"
   },
   "source": [
    "## Loss and metrics"
   ]
  },
  {
   "cell_type": "markdown",
   "metadata": {
    "colab_type": "text",
    "id": "oxGJtoDuYIHL"
   },
   "source": [
    "타겟 시퀀스에 padding이 있기 때문에 loss를 계산할때는 padding 부분을 제거해야 합니다."
   ]
  },
  {
   "cell_type": "code",
   "execution_count": 46,
   "metadata": {
    "colab": {},
    "colab_type": "code",
    "id": "MlhsJMm0TW_B"
   },
   "outputs": [],
   "source": [
    "loss_object = tf.keras.losses.SparseCategoricalCrossentropy(\n",
    "    from_logits=True, reduction='none') \n",
    "# from_logits=True: y_pred가 확률분포인 경우\n",
    "# reduction='none': cross entropy loss를 각각 계산한 후 더하지 않음 (추후 padding 0에 해당하는 loss를 없애기 위해)"
   ]
  },
  {
   "cell_type": "code",
   "execution_count": 47,
   "metadata": {
    "colab": {},
    "colab_type": "code",
    "id": "67oqVHiT0Eiu"
   },
   "outputs": [],
   "source": [
    "def loss_function(real, pred):\n",
    "  mask = tf.math.logical_not(tf.math.equal(real, 0))\n",
    "  loss_ = loss_object(real, pred)\n",
    "\n",
    "  mask = tf.cast(mask, dtype=loss_.dtype)\n",
    "  loss_ *= mask # padding 0에 해당하는 loss 제거\n",
    "  \n",
    "  return tf.reduce_sum(loss_)/tf.reduce_sum(mask)"
   ]
  },
  {
   "cell_type": "code",
   "execution_count": 48,
   "metadata": {
    "colab": {},
    "colab_type": "code",
    "id": "phlyxMnm-Tpx"
   },
   "outputs": [],
   "source": [
    "train_loss = tf.keras.metrics.Mean(name='train_loss')\n",
    "train_accuracy = tf.keras.metrics.SparseCategoricalAccuracy(\n",
    "    name='train_accuracy')"
   ]
  },
  {
   "cell_type": "markdown",
   "metadata": {
    "colab_type": "text",
    "id": "aeHumfr7zmMa"
   },
   "source": [
    "## 학습 및 모델 저장"
   ]
  },
  {
   "cell_type": "code",
   "execution_count": 49,
   "metadata": {
    "colab": {},
    "colab_type": "code",
    "id": "UiysUa--4tOU"
   },
   "outputs": [],
   "source": [
    "transformer = Transformer(num_layers, d_model, num_heads, dff,\n",
    "                          input_vocab_size, target_vocab_size, \n",
    "                          pe_input=input_vocab_size, \n",
    "                          pe_target=target_vocab_size,\n",
    "                          rate=dropout_rate)"
   ]
  },
  {
   "cell_type": "code",
   "execution_count": 50,
   "metadata": {
    "colab": {},
    "colab_type": "code",
    "id": "ZOJUSB1T8GjM"
   },
   "outputs": [],
   "source": [
    "def create_masks(inp, tar):\n",
    "  # Encoder padding mask\n",
    "  enc_padding_mask = create_padding_mask(inp)\n",
    "  \n",
    "  # Used in the 2nd attention block in the decoder.\n",
    "  # This padding mask is used to mask the encoder outputs.\n",
    "  dec_padding_mask = create_padding_mask(inp)\n",
    "  \n",
    "  # Used in the 1st attention block in the decoder.\n",
    "  # It is used to pad and mask future tokens in the input received by \n",
    "  # the decoder.\n",
    "  look_ahead_mask = create_look_ahead_mask(tf.shape(tar)[1])\n",
    "  dec_target_padding_mask = create_padding_mask(tar)\n",
    "  combined_mask = tf.maximum(dec_target_padding_mask, look_ahead_mask)\n",
    "  \n",
    "  return enc_padding_mask, combined_mask, dec_padding_mask"
   ]
  },
  {
   "cell_type": "markdown",
   "metadata": {
    "colab_type": "text",
    "id": "Fzuf06YZp66w"
   },
   "source": [
    "checkpoint 경로와 checkpoint manager를 생성합니다. 매 `n` epoch 마다 모델이 저장됩니다."
   ]
  },
  {
   "cell_type": "code",
   "execution_count": 51,
   "metadata": {
    "colab": {},
    "colab_type": "code",
    "id": "hNhuYfllndLZ"
   },
   "outputs": [],
   "source": [
    "checkpoint_path = \"./checkpoints/train\"\n",
    "\n",
    "ckpt = tf.train.Checkpoint(transformer=transformer,\n",
    "                           optimizer=optimizer)\n",
    "\n",
    "# max_to_keep: 저장되는 checkpoint 수\n",
    "ckpt_manager = tf.train.CheckpointManager(ckpt, checkpoint_path, max_to_keep=5)\n",
    "\n",
    "# if a checkpoint exists, restore the latest checkpoint.\n",
    "if ckpt_manager.latest_checkpoint:\n",
    "  ckpt.restore(ckpt_manager.latest_checkpoint)\n",
    "  print ('Latest checkpoint restored!!')"
   ]
  },
  {
   "cell_type": "markdown",
   "metadata": {
    "colab_type": "text",
    "id": "0Di_Yaa1gf9r"
   },
   "source": [
    "타겟은 tar_inp과 tar_real로 나누어집니다. tar_inp은 decoder의 입력값이고 `tar_real`은 tar_inp에서 오른쪽으로 한 칸 이동한 값입니다. Transformer의 출력값이 `tar_real`이 되도록 학습합니다. 즉 현재 단어가 주어졌을 때 바로 다음 단어를 예측하는 모델을 생성합니다.\n",
    "\n",
    "\n",
    "예를 들면, `sentence` = \"SOS A lion in the jungle is sleeping EOS\" (SOS: start of sentence, start token, EOS: end of sentence, end token)\n",
    "\n",
    "`tar_inp` =  \"SOS A lion in the jungle is sleeping\"\n",
    "\n",
    "`tar_real` = \"A lion in the jungle is sleeping EOS\"\n",
    "\n",
    "모델이 미래 단어를 보는 것을 막기 위해 `look-ahead mask`를 이용해 미래 단어를 가립니다."
   ]
  },
  {
   "cell_type": "code",
   "execution_count": 52,
   "metadata": {
    "colab": {},
    "colab_type": "code",
    "id": "LKpoA6q1sJFj"
   },
   "outputs": [],
   "source": [
    "EPOCHS = 20"
   ]
  },
  {
   "cell_type": "code",
   "execution_count": 53,
   "metadata": {
    "colab": {},
    "colab_type": "code",
    "id": "iJwmp9OE29oj"
   },
   "outputs": [],
   "source": [
    "# The @tf.function trace-compiles train_step into a TF graph for faster\n",
    "# execution. The function specializes to the precise shape of the argument\n",
    "# tensors. To avoid re-tracing due to the variable sequence lengths or variable\n",
    "# batch sizes (the last batch is smaller), use input_signature to specify\n",
    "# more generic shapes.\n",
    "\n",
    "train_step_signature = [\n",
    "    tf.TensorSpec(shape=(None, None), dtype=tf.int64),\n",
    "    tf.TensorSpec(shape=(None, None), dtype=tf.int64),\n",
    "]\n",
    "\n",
    "@tf.function(input_signature=train_step_signature)\n",
    "def train_step(inp, tar):\n",
    "  tar_inp = tar[:, :-1]\n",
    "  tar_real = tar[:, 1:]\n",
    "  \n",
    "  enc_padding_mask, combined_mask, dec_padding_mask = create_masks(inp, tar_inp)\n",
    "  \n",
    "  with tf.GradientTape() as tape:\n",
    "    predictions, _ = transformer(inp, tar_inp, \n",
    "                                 True, \n",
    "                                 enc_padding_mask, \n",
    "                                 combined_mask, \n",
    "                                 dec_padding_mask)\n",
    "    loss = loss_function(tar_real, predictions)\n",
    "\n",
    "  gradients = tape.gradient(loss, transformer.trainable_variables)    \n",
    "  optimizer.apply_gradients(zip(gradients, transformer.trainable_variables))\n",
    "  \n",
    "  train_loss(loss)\n",
    "  train_accuracy(tar_real, predictions)"
   ]
  },
  {
   "cell_type": "markdown",
   "metadata": {
    "colab_type": "text",
    "id": "qM2PDWGDJ_8V"
   },
   "source": [
    "포르투갈어가 입력 언어, 영어가 타겟 언어입니다."
   ]
  },
  {
   "cell_type": "code",
   "execution_count": 54,
   "metadata": {
    "colab": {},
    "colab_type": "code",
    "id": "bbvmaKNiznHZ"
   },
   "outputs": [
    {
     "name": "stdout",
     "output_type": "stream",
     "text": [
      "Epoch 1 Batch 0 Loss 9.0300 Accuracy 0.0000\n",
      "Epoch 1 Batch 50 Loss 8.9656 Accuracy 0.0002\n",
      "Epoch 1 Batch 100 Loss 8.8644 Accuracy 0.0118\n",
      "Epoch 1 Batch 150 Loss 8.7545 Accuracy 0.0169\n",
      "Epoch 1 Batch 200 Loss 8.6253 Accuracy 0.0194\n",
      "Epoch 1 Batch 250 Loss 8.4694 Accuracy 0.0209\n",
      "Epoch 1 Batch 300 Loss 8.2909 Accuracy 0.0222\n",
      "Epoch 1 Batch 350 Loss 8.1037 Accuracy 0.0259\n",
      "Epoch 1 Batch 400 Loss 7.9231 Accuracy 0.0304\n",
      "Epoch 1 Batch 450 Loss 7.7577 Accuracy 0.0340\n",
      "Epoch 1 Batch 500 Loss 7.6120 Accuracy 0.0371\n",
      "Epoch 1 Batch 550 Loss 7.4777 Accuracy 0.0402\n",
      "Epoch 1 Batch 600 Loss 7.3549 Accuracy 0.0435\n",
      "Epoch 1 Batch 650 Loss 7.2385 Accuracy 0.0470\n",
      "Epoch 1 Batch 700 Loss 7.1263 Accuracy 0.0503\n",
      "Epoch 1 Loss 7.1222 Accuracy 0.0504\n",
      "Time taken for 1 epoch: 79.51124024391174 secs\n",
      "\n",
      "Epoch 2 Batch 0 Loss 5.6310 Accuracy 0.0959\n",
      "Epoch 2 Batch 50 Loss 5.5325 Accuracy 0.1017\n",
      "Epoch 2 Batch 100 Loss 5.4508 Accuracy 0.1050\n",
      "Epoch 2 Batch 150 Loss 5.3913 Accuracy 0.1079\n",
      "Epoch 2 Batch 200 Loss 5.3371 Accuracy 0.1103\n",
      "Epoch 2 Batch 250 Loss 5.2959 Accuracy 0.1122\n",
      "Epoch 2 Batch 300 Loss 5.2539 Accuracy 0.1140\n",
      "Epoch 2 Batch 350 Loss 5.2188 Accuracy 0.1155\n",
      "Epoch 2 Batch 400 Loss 5.1809 Accuracy 0.1171\n",
      "Epoch 2 Batch 450 Loss 5.1483 Accuracy 0.1185\n",
      "Epoch 2 Batch 500 Loss 5.1160 Accuracy 0.1201\n",
      "Epoch 2 Batch 550 Loss 5.0873 Accuracy 0.1216\n",
      "Epoch 2 Batch 600 Loss 5.0600 Accuracy 0.1229\n",
      "Epoch 2 Batch 650 Loss 5.0332 Accuracy 0.1242\n",
      "Epoch 2 Batch 700 Loss 5.0086 Accuracy 0.1251\n",
      "Epoch 2 Loss 5.0081 Accuracy 0.1251\n",
      "Time taken for 1 epoch: 42.47013020515442 secs\n",
      "\n",
      "Epoch 3 Batch 0 Loss 4.8852 Accuracy 0.1370\n",
      "Epoch 3 Batch 50 Loss 4.6121 Accuracy 0.1434\n",
      "Epoch 3 Batch 100 Loss 4.5931 Accuracy 0.1443\n",
      "Epoch 3 Batch 150 Loss 4.5789 Accuracy 0.1449\n",
      "Epoch 3 Batch 200 Loss 4.5663 Accuracy 0.1448\n",
      "Epoch 3 Batch 250 Loss 4.5567 Accuracy 0.1452\n",
      "Epoch 3 Batch 300 Loss 4.5414 Accuracy 0.1457\n",
      "Epoch 3 Batch 350 Loss 4.5283 Accuracy 0.1464\n",
      "Epoch 3 Batch 400 Loss 4.5230 Accuracy 0.1467\n",
      "Epoch 3 Batch 450 Loss 4.5109 Accuracy 0.1474\n",
      "Epoch 3 Batch 500 Loss 4.4999 Accuracy 0.1483\n",
      "Epoch 3 Batch 550 Loss 4.4892 Accuracy 0.1490\n",
      "Epoch 3 Batch 600 Loss 4.4756 Accuracy 0.1499\n",
      "Epoch 3 Batch 650 Loss 4.4601 Accuracy 0.1506\n",
      "Epoch 3 Batch 700 Loss 4.4481 Accuracy 0.1514\n",
      "Epoch 3 Loss 4.4476 Accuracy 0.1514\n",
      "Time taken for 1 epoch: 43.053940534591675 secs\n",
      "\n",
      "Epoch 4 Batch 0 Loss 4.1151 Accuracy 0.1710\n",
      "Epoch 4 Batch 50 Loss 4.1348 Accuracy 0.1659\n",
      "Epoch 4 Batch 100 Loss 4.1419 Accuracy 0.1659\n",
      "Epoch 4 Batch 150 Loss 4.1288 Accuracy 0.1662\n",
      "Epoch 4 Batch 200 Loss 4.1144 Accuracy 0.1674\n",
      "Epoch 4 Batch 250 Loss 4.1020 Accuracy 0.1684\n",
      "Epoch 4 Batch 300 Loss 4.0868 Accuracy 0.1692\n",
      "Epoch 4 Batch 350 Loss 4.0697 Accuracy 0.1702\n",
      "Epoch 4 Batch 400 Loss 4.0547 Accuracy 0.1715\n",
      "Epoch 4 Batch 450 Loss 4.0377 Accuracy 0.1725\n",
      "Epoch 4 Batch 500 Loss 4.0207 Accuracy 0.1737\n",
      "Epoch 4 Batch 550 Loss 4.0057 Accuracy 0.1748\n",
      "Epoch 4 Batch 600 Loss 3.9927 Accuracy 0.1758\n",
      "Epoch 4 Batch 650 Loss 3.9799 Accuracy 0.1768\n",
      "Epoch 4 Batch 700 Loss 3.9649 Accuracy 0.1776\n",
      "Epoch 4 Loss 3.9644 Accuracy 0.1777\n",
      "Time taken for 1 epoch: 42.085126876831055 secs\n",
      "\n",
      "Epoch 5 Batch 0 Loss 3.5290 Accuracy 0.1827\n",
      "Epoch 5 Batch 50 Loss 3.6251 Accuracy 0.1942\n",
      "Epoch 5 Batch 100 Loss 3.6223 Accuracy 0.1935\n",
      "Epoch 5 Batch 150 Loss 3.6125 Accuracy 0.1954\n",
      "Epoch 5 Batch 200 Loss 3.6083 Accuracy 0.1962\n",
      "Epoch 5 Batch 250 Loss 3.6035 Accuracy 0.1967\n",
      "Epoch 5 Batch 300 Loss 3.5873 Accuracy 0.1974\n",
      "Epoch 5 Batch 350 Loss 3.5775 Accuracy 0.1985\n",
      "Epoch 5 Batch 400 Loss 3.5696 Accuracy 0.1996\n",
      "Epoch 5 Batch 450 Loss 3.5578 Accuracy 0.2003\n",
      "Epoch 5 Batch 500 Loss 3.5451 Accuracy 0.2010\n",
      "Epoch 5 Batch 550 Loss 3.5352 Accuracy 0.2019\n",
      "Epoch 5 Batch 600 Loss 3.5264 Accuracy 0.2024\n",
      "Epoch 5 Batch 650 Loss 3.5143 Accuracy 0.2031\n",
      "Epoch 5 Batch 700 Loss 3.5030 Accuracy 0.2039\n",
      "Saving checkpoint for epoch 5 at ./checkpoints/train/ckpt-1\n",
      "Epoch 5 Loss 3.5030 Accuracy 0.2038\n",
      "Time taken for 1 epoch: 42.5210440158844 secs\n",
      "\n",
      "Epoch 6 Batch 0 Loss 3.3898 Accuracy 0.1991\n",
      "Epoch 6 Batch 50 Loss 3.1926 Accuracy 0.2164\n",
      "Epoch 6 Batch 100 Loss 3.1816 Accuracy 0.2183\n",
      "Epoch 6 Batch 150 Loss 3.1802 Accuracy 0.2188\n",
      "Epoch 6 Batch 200 Loss 3.1792 Accuracy 0.2194\n",
      "Epoch 6 Batch 250 Loss 3.1762 Accuracy 0.2203\n",
      "Epoch 6 Batch 300 Loss 3.1721 Accuracy 0.2203\n",
      "Epoch 6 Batch 350 Loss 3.1627 Accuracy 0.2212\n",
      "Epoch 6 Batch 400 Loss 3.1577 Accuracy 0.2214\n",
      "Epoch 6 Batch 450 Loss 3.1494 Accuracy 0.2217\n",
      "Epoch 6 Batch 500 Loss 3.1436 Accuracy 0.2223\n",
      "Epoch 6 Batch 550 Loss 3.1349 Accuracy 0.2234\n",
      "Epoch 6 Batch 600 Loss 3.1266 Accuracy 0.2239\n",
      "Epoch 6 Batch 650 Loss 3.1188 Accuracy 0.2248\n",
      "Epoch 6 Batch 700 Loss 3.1118 Accuracy 0.2253\n",
      "Epoch 6 Loss 3.1114 Accuracy 0.2253\n",
      "Time taken for 1 epoch: 41.51395559310913 secs\n",
      "\n",
      "Epoch 7 Batch 0 Loss 2.7872 Accuracy 0.2512\n",
      "Epoch 7 Batch 50 Loss 2.8136 Accuracy 0.2407\n",
      "Epoch 7 Batch 100 Loss 2.7953 Accuracy 0.2398\n",
      "Epoch 7 Batch 150 Loss 2.7870 Accuracy 0.2412\n",
      "Epoch 7 Batch 200 Loss 2.7844 Accuracy 0.2414\n",
      "Epoch 7 Batch 250 Loss 2.7716 Accuracy 0.2420\n",
      "Epoch 7 Batch 300 Loss 2.7682 Accuracy 0.2425\n",
      "Epoch 7 Batch 350 Loss 2.7660 Accuracy 0.2429\n",
      "Epoch 7 Batch 400 Loss 2.7548 Accuracy 0.2440\n",
      "Epoch 7 Batch 450 Loss 2.7469 Accuracy 0.2447\n",
      "Epoch 7 Batch 500 Loss 2.7406 Accuracy 0.2449\n",
      "Epoch 7 Batch 550 Loss 2.7331 Accuracy 0.2458\n",
      "Epoch 7 Batch 600 Loss 2.7281 Accuracy 0.2462\n",
      "Epoch 7 Batch 650 Loss 2.7231 Accuracy 0.2466\n",
      "Epoch 7 Batch 700 Loss 2.7179 Accuracy 0.2472\n",
      "Epoch 7 Loss 2.7178 Accuracy 0.2472\n",
      "Time taken for 1 epoch: 41.5109121799469 secs\n",
      "\n",
      "Epoch 8 Batch 0 Loss 2.0792 Accuracy 0.2710\n",
      "Epoch 8 Batch 50 Loss 2.3923 Accuracy 0.2618\n",
      "Epoch 8 Batch 100 Loss 2.3911 Accuracy 0.2641\n",
      "Epoch 8 Batch 150 Loss 2.4023 Accuracy 0.2629\n",
      "Epoch 8 Batch 200 Loss 2.3945 Accuracy 0.2640\n",
      "Epoch 8 Batch 250 Loss 2.4008 Accuracy 0.2634\n",
      "Epoch 8 Batch 300 Loss 2.3961 Accuracy 0.2642\n",
      "Epoch 8 Batch 350 Loss 2.4007 Accuracy 0.2639\n",
      "Epoch 8 Batch 400 Loss 2.3979 Accuracy 0.2645\n",
      "Epoch 8 Batch 450 Loss 2.3978 Accuracy 0.2645\n",
      "Epoch 8 Batch 500 Loss 2.3970 Accuracy 0.2649\n",
      "Epoch 8 Batch 550 Loss 2.3924 Accuracy 0.2651\n",
      "Epoch 8 Batch 600 Loss 2.3916 Accuracy 0.2652\n",
      "Epoch 8 Batch 650 Loss 2.3911 Accuracy 0.2654\n",
      "Epoch 8 Batch 700 Loss 2.3885 Accuracy 0.2658\n",
      "Epoch 8 Loss 2.3882 Accuracy 0.2658\n",
      "Time taken for 1 epoch: 41.28891849517822 secs\n",
      "\n",
      "Epoch 9 Batch 0 Loss 2.1815 Accuracy 0.2745\n",
      "Epoch 9 Batch 50 Loss 2.1284 Accuracy 0.2776\n",
      "Epoch 9 Batch 100 Loss 2.1296 Accuracy 0.2782\n",
      "Epoch 9 Batch 150 Loss 2.1388 Accuracy 0.2786\n",
      "Epoch 9 Batch 200 Loss 2.1412 Accuracy 0.2783\n",
      "Epoch 9 Batch 250 Loss 2.1444 Accuracy 0.2784\n",
      "Epoch 9 Batch 300 Loss 2.1414 Accuracy 0.2796\n",
      "Epoch 9 Batch 350 Loss 2.1400 Accuracy 0.2796\n",
      "Epoch 9 Batch 400 Loss 2.1434 Accuracy 0.2801\n",
      "Epoch 9 Batch 450 Loss 2.1454 Accuracy 0.2801\n",
      "Epoch 9 Batch 500 Loss 2.1464 Accuracy 0.2802\n",
      "Epoch 9 Batch 550 Loss 2.1446 Accuracy 0.2799\n",
      "Epoch 9 Batch 600 Loss 2.1454 Accuracy 0.2799\n",
      "Epoch 9 Batch 650 Loss 2.1498 Accuracy 0.2798\n",
      "Epoch 9 Batch 700 Loss 2.1508 Accuracy 0.2798\n",
      "Epoch 9 Loss 2.1511 Accuracy 0.2799\n",
      "Time taken for 1 epoch: 41.38485670089722 secs\n",
      "\n",
      "Epoch 10 Batch 0 Loss 1.6685 Accuracy 0.3267\n",
      "Epoch 10 Batch 50 Loss 1.8969 Accuracy 0.2929\n",
      "Epoch 10 Batch 100 Loss 1.9263 Accuracy 0.2935\n",
      "Epoch 10 Batch 150 Loss 1.9366 Accuracy 0.2912\n",
      "Epoch 10 Batch 200 Loss 1.9477 Accuracy 0.2907\n",
      "Epoch 10 Batch 250 Loss 1.9530 Accuracy 0.2907\n",
      "Epoch 10 Batch 300 Loss 1.9525 Accuracy 0.2906\n",
      "Epoch 10 Batch 350 Loss 1.9518 Accuracy 0.2904\n",
      "Epoch 10 Batch 400 Loss 1.9553 Accuracy 0.2905\n",
      "Epoch 10 Batch 450 Loss 1.9553 Accuracy 0.2906\n",
      "Epoch 10 Batch 500 Loss 1.9601 Accuracy 0.2909\n",
      "Epoch 10 Batch 550 Loss 1.9641 Accuracy 0.2908\n",
      "Epoch 10 Batch 600 Loss 1.9661 Accuracy 0.2910\n",
      "Epoch 10 Batch 650 Loss 1.9690 Accuracy 0.2907\n",
      "Epoch 10 Batch 700 Loss 1.9729 Accuracy 0.2906\n",
      "Saving checkpoint for epoch 10 at ./checkpoints/train/ckpt-2\n",
      "Epoch 10 Loss 1.9732 Accuracy 0.2906\n",
      "Time taken for 1 epoch: 42.02320075035095 secs\n",
      "\n",
      "Epoch 11 Batch 0 Loss 1.8104 Accuracy 0.3108\n",
      "Epoch 11 Batch 50 Loss 1.7475 Accuracy 0.3044\n",
      "Epoch 11 Batch 100 Loss 1.7595 Accuracy 0.3028\n",
      "Epoch 11 Batch 150 Loss 1.7678 Accuracy 0.3041\n",
      "Epoch 11 Batch 200 Loss 1.7806 Accuracy 0.3029\n",
      "Epoch 11 Batch 250 Loss 1.7907 Accuracy 0.3024\n",
      "Epoch 11 Batch 300 Loss 1.7972 Accuracy 0.3018\n",
      "Epoch 11 Batch 350 Loss 1.7999 Accuracy 0.3013\n",
      "Epoch 11 Batch 400 Loss 1.8034 Accuracy 0.3004\n",
      "Epoch 11 Batch 450 Loss 1.8085 Accuracy 0.3003\n",
      "Epoch 11 Batch 500 Loss 1.8140 Accuracy 0.2998\n",
      "Epoch 11 Batch 550 Loss 1.8184 Accuracy 0.2997\n",
      "Epoch 11 Batch 600 Loss 1.8228 Accuracy 0.2999\n",
      "Epoch 11 Batch 650 Loss 1.8268 Accuracy 0.3001\n",
      "Epoch 11 Batch 700 Loss 1.8290 Accuracy 0.2999\n",
      "Epoch 11 Loss 1.8293 Accuracy 0.2999\n",
      "Time taken for 1 epoch: 41.27653360366821 secs\n",
      "\n",
      "Epoch 12 Batch 0 Loss 1.5276 Accuracy 0.3342\n",
      "Epoch 12 Batch 50 Loss 1.6305 Accuracy 0.3122\n",
      "Epoch 12 Batch 100 Loss 1.6416 Accuracy 0.3095\n",
      "Epoch 12 Batch 150 Loss 1.6563 Accuracy 0.3094\n",
      "Epoch 12 Batch 200 Loss 1.6656 Accuracy 0.3093\n",
      "Epoch 12 Batch 250 Loss 1.6710 Accuracy 0.3082\n",
      "Epoch 12 Batch 300 Loss 1.6773 Accuracy 0.3080\n",
      "Epoch 12 Batch 350 Loss 1.6817 Accuracy 0.3073\n",
      "Epoch 12 Batch 400 Loss 1.6876 Accuracy 0.3073\n",
      "Epoch 12 Batch 450 Loss 1.6909 Accuracy 0.3076\n",
      "Epoch 12 Batch 500 Loss 1.6928 Accuracy 0.3076\n",
      "Epoch 12 Batch 550 Loss 1.7008 Accuracy 0.3069\n",
      "Epoch 12 Batch 600 Loss 1.7048 Accuracy 0.3068\n",
      "Epoch 12 Batch 650 Loss 1.7082 Accuracy 0.3069\n",
      "Epoch 12 Batch 700 Loss 1.7130 Accuracy 0.3064\n",
      "Epoch 12 Loss 1.7132 Accuracy 0.3064\n",
      "Time taken for 1 epoch: 41.23147010803223 secs\n",
      "\n",
      "Epoch 13 Batch 0 Loss 1.4846 Accuracy 0.3109\n",
      "Epoch 13 Batch 50 Loss 1.5374 Accuracy 0.3167\n",
      "Epoch 13 Batch 100 Loss 1.5411 Accuracy 0.3169\n",
      "Epoch 13 Batch 150 Loss 1.5540 Accuracy 0.3180\n",
      "Epoch 13 Batch 200 Loss 1.5655 Accuracy 0.3161\n",
      "Epoch 13 Batch 250 Loss 1.5715 Accuracy 0.3158\n",
      "Epoch 13 Batch 300 Loss 1.5785 Accuracy 0.3154\n",
      "Epoch 13 Batch 350 Loss 1.5823 Accuracy 0.3151\n",
      "Epoch 13 Batch 400 Loss 1.5853 Accuracy 0.3149\n",
      "Epoch 13 Batch 450 Loss 1.5893 Accuracy 0.3146\n",
      "Epoch 13 Batch 500 Loss 1.5915 Accuracy 0.3146\n",
      "Epoch 13 Batch 550 Loss 1.5967 Accuracy 0.3144\n",
      "Epoch 13 Batch 600 Loss 1.6035 Accuracy 0.3138\n",
      "Epoch 13 Batch 650 Loss 1.6105 Accuracy 0.3132\n",
      "Epoch 13 Batch 700 Loss 1.6133 Accuracy 0.3132\n",
      "Epoch 13 Loss 1.6132 Accuracy 0.3132\n",
      "Time taken for 1 epoch: 41.631065368652344 secs\n",
      "\n",
      "Epoch 14 Batch 0 Loss 1.3161 Accuracy 0.3209\n",
      "Epoch 14 Batch 50 Loss 1.4270 Accuracy 0.3236\n",
      "Epoch 14 Batch 100 Loss 1.4348 Accuracy 0.3255\n",
      "Epoch 14 Batch 150 Loss 1.4567 Accuracy 0.3234\n",
      "Epoch 14 Batch 200 Loss 1.4619 Accuracy 0.3222\n",
      "Epoch 14 Batch 250 Loss 1.4713 Accuracy 0.3207\n",
      "Epoch 14 Batch 300 Loss 1.4824 Accuracy 0.3210\n",
      "Epoch 14 Batch 350 Loss 1.4895 Accuracy 0.3204\n",
      "Epoch 14 Batch 400 Loss 1.4946 Accuracy 0.3196\n",
      "Epoch 14 Batch 450 Loss 1.4993 Accuracy 0.3192\n",
      "Epoch 14 Batch 500 Loss 1.5054 Accuracy 0.3189\n",
      "Epoch 14 Batch 550 Loss 1.5121 Accuracy 0.3187\n",
      "Epoch 14 Batch 600 Loss 1.5187 Accuracy 0.3186\n",
      "Epoch 14 Batch 650 Loss 1.5221 Accuracy 0.3185\n",
      "Epoch 14 Batch 700 Loss 1.5269 Accuracy 0.3182\n",
      "Epoch 14 Loss 1.5271 Accuracy 0.3182\n",
      "Time taken for 1 epoch: 41.53741788864136 secs\n",
      "\n",
      "Epoch 15 Batch 0 Loss 1.4735 Accuracy 0.3253\n",
      "Epoch 15 Batch 50 Loss 1.3796 Accuracy 0.3306\n",
      "Epoch 15 Batch 100 Loss 1.3809 Accuracy 0.3276\n",
      "Epoch 15 Batch 150 Loss 1.3896 Accuracy 0.3274\n",
      "Epoch 15 Batch 200 Loss 1.3963 Accuracy 0.3275\n",
      "Epoch 15 Batch 250 Loss 1.4050 Accuracy 0.3272\n",
      "Epoch 15 Batch 300 Loss 1.4084 Accuracy 0.3271\n",
      "Epoch 15 Batch 350 Loss 1.4139 Accuracy 0.3263\n",
      "Epoch 15 Batch 400 Loss 1.4174 Accuracy 0.3264\n",
      "Epoch 15 Batch 450 Loss 1.4237 Accuracy 0.3265\n",
      "Epoch 15 Batch 500 Loss 1.4292 Accuracy 0.3260\n",
      "Epoch 15 Batch 550 Loss 1.4354 Accuracy 0.3252\n",
      "Epoch 15 Batch 600 Loss 1.4416 Accuracy 0.3248\n",
      "Epoch 15 Batch 650 Loss 1.4476 Accuracy 0.3241\n",
      "Epoch 15 Batch 700 Loss 1.4532 Accuracy 0.3239\n",
      "Saving checkpoint for epoch 15 at ./checkpoints/train/ckpt-3\n",
      "Epoch 15 Loss 1.4532 Accuracy 0.3239\n",
      "Time taken for 1 epoch: 41.94780230522156 secs\n",
      "\n",
      "Epoch 16 Batch 0 Loss 1.4892 Accuracy 0.3072\n",
      "Epoch 16 Batch 50 Loss 1.3010 Accuracy 0.3401\n",
      "Epoch 16 Batch 100 Loss 1.3190 Accuracy 0.3368\n",
      "Epoch 16 Batch 150 Loss 1.3232 Accuracy 0.3356\n",
      "Epoch 16 Batch 200 Loss 1.3337 Accuracy 0.3349\n",
      "Epoch 16 Batch 250 Loss 1.3372 Accuracy 0.3335\n",
      "Epoch 16 Batch 300 Loss 1.3447 Accuracy 0.3326\n",
      "Epoch 16 Batch 350 Loss 1.3533 Accuracy 0.3322\n",
      "Epoch 16 Batch 400 Loss 1.3550 Accuracy 0.3319\n",
      "Epoch 16 Batch 450 Loss 1.3588 Accuracy 0.3320\n",
      "Epoch 16 Batch 500 Loss 1.3634 Accuracy 0.3316\n",
      "Epoch 16 Batch 550 Loss 1.3689 Accuracy 0.3306\n",
      "Epoch 16 Batch 600 Loss 1.3745 Accuracy 0.3301\n",
      "Epoch 16 Batch 650 Loss 1.3796 Accuracy 0.3297\n",
      "Epoch 16 Batch 700 Loss 1.3849 Accuracy 0.3292\n",
      "Epoch 16 Loss 1.3847 Accuracy 0.3292\n",
      "Time taken for 1 epoch: 41.17055344581604 secs\n",
      "\n",
      "Epoch 17 Batch 0 Loss 1.2141 Accuracy 0.3759\n",
      "Epoch 17 Batch 50 Loss 1.2455 Accuracy 0.3353\n",
      "Epoch 17 Batch 100 Loss 1.2536 Accuracy 0.3374\n",
      "Epoch 17 Batch 150 Loss 1.2621 Accuracy 0.3376\n",
      "Epoch 17 Batch 200 Loss 1.2633 Accuracy 0.3366\n",
      "Epoch 17 Batch 250 Loss 1.2678 Accuracy 0.3369\n",
      "Epoch 17 Batch 300 Loss 1.2733 Accuracy 0.3367\n",
      "Epoch 17 Batch 350 Loss 1.2806 Accuracy 0.3364\n",
      "Epoch 17 Batch 400 Loss 1.2877 Accuracy 0.3362\n",
      "Epoch 17 Batch 450 Loss 1.2931 Accuracy 0.3365\n",
      "Epoch 17 Batch 500 Loss 1.2975 Accuracy 0.3357\n",
      "Epoch 17 Batch 550 Loss 1.3051 Accuracy 0.3349\n",
      "Epoch 17 Batch 600 Loss 1.3102 Accuracy 0.3339\n",
      "Epoch 17 Batch 650 Loss 1.3169 Accuracy 0.3337\n",
      "Epoch 17 Batch 700 Loss 1.3236 Accuracy 0.3331\n",
      "Epoch 17 Loss 1.3238 Accuracy 0.3331\n",
      "Time taken for 1 epoch: 41.213239908218384 secs\n",
      "\n",
      "Epoch 18 Batch 0 Loss 1.1653 Accuracy 0.3480\n",
      "Epoch 18 Batch 50 Loss 1.2175 Accuracy 0.3413\n",
      "Epoch 18 Batch 100 Loss 1.2148 Accuracy 0.3408\n",
      "Epoch 18 Batch 150 Loss 1.2146 Accuracy 0.3397\n",
      "Epoch 18 Batch 200 Loss 1.2248 Accuracy 0.3399\n",
      "Epoch 18 Batch 250 Loss 1.2255 Accuracy 0.3403\n",
      "Epoch 18 Batch 300 Loss 1.2335 Accuracy 0.3398\n",
      "Epoch 18 Batch 350 Loss 1.2397 Accuracy 0.3398\n",
      "Epoch 18 Batch 400 Loss 1.2433 Accuracy 0.3397\n",
      "Epoch 18 Batch 450 Loss 1.2474 Accuracy 0.3394\n",
      "Epoch 18 Batch 500 Loss 1.2505 Accuracy 0.3393\n",
      "Epoch 18 Batch 550 Loss 1.2547 Accuracy 0.3390\n",
      "Epoch 18 Batch 600 Loss 1.2600 Accuracy 0.3386\n",
      "Epoch 18 Batch 650 Loss 1.2673 Accuracy 0.3381\n",
      "Epoch 18 Batch 700 Loss 1.2725 Accuracy 0.3376\n",
      "Epoch 18 Loss 1.2723 Accuracy 0.3375\n",
      "Time taken for 1 epoch: 41.271873474121094 secs\n",
      "\n",
      "Epoch 19 Batch 0 Loss 1.1996 Accuracy 0.3285\n",
      "Epoch 19 Batch 50 Loss 1.1332 Accuracy 0.3508\n",
      "Epoch 19 Batch 100 Loss 1.1437 Accuracy 0.3475\n",
      "Epoch 19 Batch 150 Loss 1.1563 Accuracy 0.3473\n",
      "Epoch 19 Batch 200 Loss 1.1677 Accuracy 0.3454\n",
      "Epoch 19 Batch 250 Loss 1.1775 Accuracy 0.3450\n",
      "Epoch 19 Batch 300 Loss 1.1809 Accuracy 0.3440\n",
      "Epoch 19 Batch 350 Loss 1.1868 Accuracy 0.3433\n",
      "Epoch 19 Batch 400 Loss 1.1899 Accuracy 0.3429\n",
      "Epoch 19 Batch 450 Loss 1.1939 Accuracy 0.3428\n",
      "Epoch 19 Batch 500 Loss 1.1970 Accuracy 0.3426\n",
      "Epoch 19 Batch 550 Loss 1.2041 Accuracy 0.3419\n",
      "Epoch 19 Batch 600 Loss 1.2107 Accuracy 0.3411\n",
      "Epoch 19 Batch 650 Loss 1.2164 Accuracy 0.3406\n",
      "Epoch 19 Batch 700 Loss 1.2212 Accuracy 0.3405\n",
      "Epoch 19 Loss 1.2216 Accuracy 0.3406\n",
      "Time taken for 1 epoch: 41.08094310760498 secs\n",
      "\n",
      "Epoch 20 Batch 0 Loss 1.0954 Accuracy 0.3585\n",
      "Epoch 20 Batch 50 Loss 1.1048 Accuracy 0.3533\n",
      "Epoch 20 Batch 100 Loss 1.1163 Accuracy 0.3490\n",
      "Epoch 20 Batch 150 Loss 1.1244 Accuracy 0.3486\n",
      "Epoch 20 Batch 200 Loss 1.1254 Accuracy 0.3484\n",
      "Epoch 20 Batch 250 Loss 1.1347 Accuracy 0.3469\n",
      "Epoch 20 Batch 300 Loss 1.1385 Accuracy 0.3466\n",
      "Epoch 20 Batch 350 Loss 1.1424 Accuracy 0.3468\n",
      "Epoch 20 Batch 400 Loss 1.1479 Accuracy 0.3461\n",
      "Epoch 20 Batch 450 Loss 1.1516 Accuracy 0.3453\n",
      "Epoch 20 Batch 500 Loss 1.1560 Accuracy 0.3452\n",
      "Epoch 20 Batch 550 Loss 1.1622 Accuracy 0.3448\n",
      "Epoch 20 Batch 600 Loss 1.1679 Accuracy 0.3444\n",
      "Epoch 20 Batch 650 Loss 1.1739 Accuracy 0.3439\n",
      "Epoch 20 Batch 700 Loss 1.1796 Accuracy 0.3437\n",
      "Saving checkpoint for epoch 20 at ./checkpoints/train/ckpt-4\n",
      "Epoch 20 Loss 1.1797 Accuracy 0.3436\n",
      "Time taken for 1 epoch: 41.77220034599304 secs\n",
      "\n"
     ]
    }
   ],
   "source": [
    "for epoch in range(EPOCHS):\n",
    "  start = time.time()\n",
    "  \n",
    "  train_loss.reset_states()\n",
    "  train_accuracy.reset_states()\n",
    "  \n",
    "  # inp -> portuguese, tar -> english\n",
    "  for (batch, (inp, tar)) in enumerate(train_dataset):\n",
    "    train_step(inp, tar)\n",
    "    \n",
    "    if batch % 50 == 0:\n",
    "      print ('Epoch {} Batch {} Loss {:.4f} Accuracy {:.4f}'.format(\n",
    "          epoch + 1, batch, train_loss.result(), train_accuracy.result()))\n",
    "      \n",
    "  if (epoch + 1) % 5 == 0:\n",
    "    ckpt_save_path = ckpt_manager.save()\n",
    "    print ('Saving checkpoint for epoch {} at {}'.format(epoch+1,\n",
    "                                                         ckpt_save_path))\n",
    "    \n",
    "  print ('Epoch {} Loss {:.4f} Accuracy {:.4f}'.format(epoch + 1, \n",
    "                                                train_loss.result(), \n",
    "                                                train_accuracy.result()))\n",
    "\n",
    "  print ('Time taken for 1 epoch: {} secs\\n'.format(time.time() - start))"
   ]
  },
  {
   "cell_type": "markdown",
   "metadata": {
    "colab_type": "text",
    "id": "QfcsSWswSdGV"
   },
   "source": [
    "## 모델 평가"
   ]
  },
  {
   "cell_type": "markdown",
   "metadata": {
    "colab_type": "text",
    "id": "y6APsFrgImLW"
   },
   "source": [
    "모델 평가 순서는 다음과 같습니다.\n",
    "\n",
    "* 입력 문장 (포르투갈어)를 tokenizer를 이용해 쪼갭니다. 다음 start, end token을 문장 양 끝에 추가합니다.\n",
    "* decoder의 입력값은 start token입니다.\n",
    "* padding mask와 look ahead mask를 계산합니다.\n",
    "* `decoder`를 이용해 다음 단어 한 개를 예측합니다.\n",
    "* 예측한 단어 한 개를 decoder 입력값과 합치고 다시 `decoder`의 입력값으로 이용합니다.\n",
    "* 즉 이전 단어들을 이용해 다음 단어를 예측합니다. \n",
    "* end token이 나올때까지 이 과정을 반복합니다."
   ]
  },
  {
   "cell_type": "code",
   "execution_count": 55,
   "metadata": {
    "colab": {},
    "colab_type": "code",
    "id": "5buvMlnvyrFm"
   },
   "outputs": [],
   "source": [
    "def evaluate(inp_sentence):\n",
    "  start_token = [tokenizer_pt.vocab_size]\n",
    "  end_token = [tokenizer_pt.vocab_size + 1]\n",
    "  \n",
    "  # inp sentence is portuguese, hence adding the start and end token\n",
    "  inp_sentence = start_token + tokenizer_pt.encode(inp_sentence) + end_token\n",
    "  encoder_input = tf.expand_dims(inp_sentence, 0)\n",
    "  \n",
    "  # as the target is english, the first word to the transformer should be the\n",
    "  # english start token.\n",
    "  decoder_input = [tokenizer_en.vocab_size]\n",
    "  output = tf.expand_dims(decoder_input, 0)\n",
    "  \n",
    "  # MAX_LENGTH: 생성된 문장이 가질 수 있는 최대 길이\n",
    "  for i in range(MAX_LENGTH):\n",
    "    enc_padding_mask, combined_mask, dec_padding_mask = create_masks(\n",
    "        encoder_input, output)\n",
    "  \n",
    "    # predictions.shape == (batch_size, seq_len, vocab_size)\n",
    "    predictions, attention_weights = transformer(encoder_input, \n",
    "                                                 output,\n",
    "                                                 False,\n",
    "                                                 enc_padding_mask,\n",
    "                                                 combined_mask,\n",
    "                                                 dec_padding_mask)\n",
    "    \n",
    "    # 마지막 단어만 선택합니다. decoder 입력값으로 넣은 단어들과 예측한 다음 단어를 합치기 위해서입니다.\n",
    "    predictions = predictions[: ,-1:, :]  # (batch_size, 1, vocab_size)\n",
    "\n",
    "    predicted_id = tf.cast(tf.argmax(predictions, axis=-1), tf.int32)\n",
    "    \n",
    "    # end token이 생성되면 단어 생성을 멈추고 출력값으로 return합니다.\n",
    "    if predicted_id == tokenizer_en.vocab_size+1:\n",
    "      return tf.squeeze(output, axis=0), attention_weights\n",
    "    \n",
    "    # 마지막에 생성된 단어를 decoder의 입력값과 합칩니다. 이는 다음 루프의 decoder 입력값이 됩니다.\n",
    "    output = tf.concat([output, predicted_id], axis=-1)\n",
    "\n",
    "  return tf.squeeze(output, axis=0), attention_weights"
   ]
  },
  {
   "cell_type": "code",
   "execution_count": 56,
   "metadata": {
    "colab": {},
    "colab_type": "code",
    "id": "CN-BV43FMBej"
   },
   "outputs": [],
   "source": [
    "def plot_attention_weights(attention, sentence, result, layer):\n",
    "  fig = plt.figure(figsize=(16, 8))\n",
    "  \n",
    "  sentence = tokenizer_pt.encode(sentence)\n",
    "  \n",
    "  attention = tf.squeeze(attention[layer], axis=0)\n",
    "  \n",
    "  for head in range(attention.shape[0]):\n",
    "    ax = fig.add_subplot(2, 4, head+1)\n",
    "    \n",
    "    # plot the attention weights\n",
    "    ax.matshow(attention[head][:-1, :], cmap='viridis')\n",
    "\n",
    "    fontdict = {'fontsize': 10}\n",
    "    \n",
    "    ax.set_xticks(range(len(sentence)+2))\n",
    "    ax.set_yticks(range(len(result)))\n",
    "    \n",
    "    ax.set_ylim(len(result)-1.5, -0.5)\n",
    "        \n",
    "    ax.set_xticklabels(\n",
    "        ['<start>']+[tokenizer_pt.decode([i]) for i in sentence]+['<end>'], \n",
    "        fontdict=fontdict, rotation=90)\n",
    "    \n",
    "    ax.set_yticklabels([tokenizer_en.decode([i]) for i in result \n",
    "                        if i < tokenizer_en.vocab_size], \n",
    "                       fontdict=fontdict)\n",
    "    \n",
    "    ax.set_xlabel('Head {}'.format(head+1))\n",
    "  \n",
    "  plt.tight_layout()\n",
    "  plt.show()"
   ]
  },
  {
   "cell_type": "code",
   "execution_count": 57,
   "metadata": {
    "colab": {},
    "colab_type": "code",
    "id": "lU2_yG_vBGza"
   },
   "outputs": [],
   "source": [
    "def translate(sentence, plot=''):\n",
    "  result, attention_weights = evaluate(sentence)\n",
    "  \n",
    "  predicted_sentence = tokenizer_en.decode([i for i in result \n",
    "                                            if i < tokenizer_en.vocab_size])  \n",
    "\n",
    "  print('Input: {}'.format(sentence))\n",
    "  print('Predicted translation: {}'.format(predicted_sentence))\n",
    "  \n",
    "  if plot:\n",
    "    plot_attention_weights(attention_weights, sentence, result, plot)"
   ]
  },
  {
   "cell_type": "code",
   "execution_count": 58,
   "metadata": {
    "colab": {},
    "colab_type": "code",
    "id": "YsxrAlvFG8SZ"
   },
   "outputs": [
    {
     "name": "stdout",
     "output_type": "stream",
     "text": [
      "Input: este é um problema que temos que resolver.\n",
      "Predicted translation: this is a problem that we have to deal with the growth of the city .\n",
      "Real translation: this is a problem we have to solve .\n"
     ]
    }
   ],
   "source": [
    "translate(\"este é um problema que temos que resolver.\")\n",
    "print (\"Real translation: this is a problem we have to solve .\")"
   ]
  },
  {
   "cell_type": "code",
   "execution_count": 59,
   "metadata": {
    "colab": {},
    "colab_type": "code",
    "id": "7EH5y_aqI4t1"
   },
   "outputs": [
    {
     "name": "stdout",
     "output_type": "stream",
     "text": [
      "Input: os meus vizinhos ouviram sobre esta ideia.\n",
      "Predicted translation: my neighbors heard about this idea of the relationship .\n",
      "Real translation: and my neighboring homes heard about this idea .\n"
     ]
    }
   ],
   "source": [
    "translate(\"os meus vizinhos ouviram sobre esta ideia.\")\n",
    "print (\"Real translation: and my neighboring homes heard about this idea .\")"
   ]
  },
  {
   "cell_type": "code",
   "execution_count": 60,
   "metadata": {
    "colab": {},
    "colab_type": "code",
    "id": "J-hVCTSUMlkb"
   },
   "outputs": [
    {
     "name": "stdout",
     "output_type": "stream",
     "text": [
      "Input: vou então muito rapidamente partilhar convosco algumas histórias de algumas coisas mágicas que aconteceram.\n",
      "Predicted translation: so i 'm going to just share with you some of some magic stories that happened .\n",
      "Real translation: so i 'll just share with you some stories very quickly of some magical things that have happened .\n"
     ]
    }
   ],
   "source": [
    "translate(\"vou então muito rapidamente partilhar convosco algumas histórias de algumas coisas mágicas que aconteceram.\")\n",
    "print (\"Real translation: so i 'll just share with you some stories very quickly of some magical things that have happened .\")"
   ]
  },
  {
   "cell_type": "markdown",
   "metadata": {
    "colab_type": "text",
    "id": "_1MxkSZvz0jX"
   },
   "source": [
    "You can pass different layers and attention blocks of the decoder to the `plot` parameter."
   ]
  },
  {
   "cell_type": "code",
   "execution_count": 61,
   "metadata": {
    "colab": {},
    "colab_type": "code",
    "id": "t-kFyiOLH0xg"
   },
   "outputs": [
    {
     "name": "stdout",
     "output_type": "stream",
     "text": [
      "Input: este é o primeiro livro que eu fiz.\n",
      "Predicted translation: this is the first book that i did .\n"
     ]
    },
    {
     "data": {
      "image/png": "[encoded data removed]",
      "text/plain": [
       "<Figure size 1152x576 with 8 Axes>"
      ]
     },
     "metadata": {
      "needs_background": "light"
     },
     "output_type": "display_data"
    },
    {
     "name": "stdout",
     "output_type": "stream",
     "text": [
      "Real translation: this is the first book i've ever done.\n"
     ]
    }
   ],
   "source": [
    "translate(\"este é o primeiro livro que eu fiz.\", plot='decoder_layer4_block2')\n",
    "print (\"Real translation: this is the first book i've ever done.\")"
   ]
  },
  {
   "cell_type": "code",
   "execution_count": null,
   "metadata": {},
   "outputs": [],
   "source": []
  }
 ],
 "metadata": {
  "accelerator": "GPU",
  "colab": {
   "collapsed_sections": [
    "s_qNSzzyaCbD"
   ],
   "name": "transformer.ipynb",
   "private_outputs": true,
   "provenance": [],
   "toc_visible": true
  },
  "kernelspec": {
   "display_name": "Python 3",
   "language": "python",
   "name": "python3"
  },
  "language_info": {
   "codemirror_mode": {
    "name": "ipython",
    "version": 3
   },
   "file_extension": ".py",
   "mimetype": "text/x-python",
   "name": "python",
   "nbconvert_exporter": "python",
   "pygments_lexer": "ipython3",
   "version": "3.6.8"
  }
 },
 "nbformat": 4,
 "nbformat_minor": 4
}
